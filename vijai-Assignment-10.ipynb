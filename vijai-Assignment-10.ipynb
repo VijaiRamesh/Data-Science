{
 "cells": [
  {
   "cell_type": "markdown",
   "metadata": {},
   "source": [
    "# Importing the Library"
   ]
  },
  {
   "cell_type": "code",
   "execution_count": 1,
   "metadata": {},
   "outputs": [],
   "source": [
    "import pandas as pd"
   ]
  },
  {
   "cell_type": "markdown",
   "metadata": {},
   "source": [
    "# Reading csv file using pandas.read_csv and saved in dataset variable"
   ]
  },
  {
   "cell_type": "code",
   "execution_count": 2,
   "metadata": {},
   "outputs": [],
   "source": [
    "dataset=pd.read_csv(\"Book1.csv\")"
   ]
  },
  {
   "cell_type": "code",
   "execution_count": 3,
   "metadata": {
    "scrolled": false
   },
   "outputs": [
    {
     "data": {
      "text/html": [
       "<div>\n",
       "<style scoped>\n",
       "    .dataframe tbody tr th:only-of-type {\n",
       "        vertical-align: middle;\n",
       "    }\n",
       "\n",
       "    .dataframe tbody tr th {\n",
       "        vertical-align: top;\n",
       "    }\n",
       "\n",
       "    .dataframe thead th {\n",
       "        text-align: right;\n",
       "    }\n",
       "</style>\n",
       "<table border=\"1\" class=\"dataframe\">\n",
       "  <thead>\n",
       "    <tr style=\"text-align: right;\">\n",
       "      <th></th>\n",
       "      <th>Companies</th>\n",
       "      <th>Year of experience</th>\n",
       "      <th>Location</th>\n",
       "      <th>Salary</th>\n",
       "    </tr>\n",
       "  </thead>\n",
       "  <tbody>\n",
       "    <tr>\n",
       "      <td>0</td>\n",
       "      <td>Accenture</td>\n",
       "      <td>1</td>\n",
       "      <td>Bangalore</td>\n",
       "      <td>380000</td>\n",
       "    </tr>\n",
       "    <tr>\n",
       "      <td>1</td>\n",
       "      <td>Wipro</td>\n",
       "      <td>1</td>\n",
       "      <td>Bangalore</td>\n",
       "      <td>380000</td>\n",
       "    </tr>\n",
       "    <tr>\n",
       "      <td>2</td>\n",
       "      <td>Amazon</td>\n",
       "      <td>1</td>\n",
       "      <td>Bangalore</td>\n",
       "      <td>380000</td>\n",
       "    </tr>\n",
       "    <tr>\n",
       "      <td>3</td>\n",
       "      <td>Accenture</td>\n",
       "      <td>1</td>\n",
       "      <td>Chennai</td>\n",
       "      <td>280000</td>\n",
       "    </tr>\n",
       "    <tr>\n",
       "      <td>4</td>\n",
       "      <td>Wipro</td>\n",
       "      <td>1</td>\n",
       "      <td>Chennai</td>\n",
       "      <td>390000</td>\n",
       "    </tr>\n",
       "    <tr>\n",
       "      <td>5</td>\n",
       "      <td>Amazon</td>\n",
       "      <td>1</td>\n",
       "      <td>Chennai</td>\n",
       "      <td>330000</td>\n",
       "    </tr>\n",
       "    <tr>\n",
       "      <td>6</td>\n",
       "      <td>Accenture</td>\n",
       "      <td>2</td>\n",
       "      <td>Bangalore</td>\n",
       "      <td>490000</td>\n",
       "    </tr>\n",
       "    <tr>\n",
       "      <td>7</td>\n",
       "      <td>Wipro</td>\n",
       "      <td>2</td>\n",
       "      <td>Bangalore</td>\n",
       "      <td>440000</td>\n",
       "    </tr>\n",
       "    <tr>\n",
       "      <td>8</td>\n",
       "      <td>Amazon</td>\n",
       "      <td>2</td>\n",
       "      <td>Bangalore</td>\n",
       "      <td>490000</td>\n",
       "    </tr>\n",
       "    <tr>\n",
       "      <td>9</td>\n",
       "      <td>Accenture</td>\n",
       "      <td>2</td>\n",
       "      <td>Chennai</td>\n",
       "      <td>480000</td>\n",
       "    </tr>\n",
       "    <tr>\n",
       "      <td>10</td>\n",
       "      <td>Wipro</td>\n",
       "      <td>2</td>\n",
       "      <td>Chennai</td>\n",
       "      <td>420000</td>\n",
       "    </tr>\n",
       "    <tr>\n",
       "      <td>11</td>\n",
       "      <td>Amazon</td>\n",
       "      <td>2</td>\n",
       "      <td>Chennai</td>\n",
       "      <td>390000</td>\n",
       "    </tr>\n",
       "    <tr>\n",
       "      <td>12</td>\n",
       "      <td>Accenture</td>\n",
       "      <td>3</td>\n",
       "      <td>Bangalore</td>\n",
       "      <td>570000</td>\n",
       "    </tr>\n",
       "    <tr>\n",
       "      <td>13</td>\n",
       "      <td>Wipro</td>\n",
       "      <td>3</td>\n",
       "      <td>Bangalore</td>\n",
       "      <td>510000</td>\n",
       "    </tr>\n",
       "    <tr>\n",
       "      <td>14</td>\n",
       "      <td>Amazon</td>\n",
       "      <td>3</td>\n",
       "      <td>Bangalore</td>\n",
       "      <td>580000</td>\n",
       "    </tr>\n",
       "    <tr>\n",
       "      <td>15</td>\n",
       "      <td>Accenture</td>\n",
       "      <td>3</td>\n",
       "      <td>Chennai</td>\n",
       "      <td>480000</td>\n",
       "    </tr>\n",
       "    <tr>\n",
       "      <td>16</td>\n",
       "      <td>Wipro</td>\n",
       "      <td>3</td>\n",
       "      <td>Chennai</td>\n",
       "      <td>510000</td>\n",
       "    </tr>\n",
       "    <tr>\n",
       "      <td>17</td>\n",
       "      <td>Amazon</td>\n",
       "      <td>3</td>\n",
       "      <td>Chennai</td>\n",
       "      <td>430000</td>\n",
       "    </tr>\n",
       "    <tr>\n",
       "      <td>18</td>\n",
       "      <td>Accenture</td>\n",
       "      <td>4</td>\n",
       "      <td>Bangalore</td>\n",
       "      <td>600000</td>\n",
       "    </tr>\n",
       "    <tr>\n",
       "      <td>19</td>\n",
       "      <td>Wipro</td>\n",
       "      <td>4</td>\n",
       "      <td>Bangalore</td>\n",
       "      <td>600000</td>\n",
       "    </tr>\n",
       "    <tr>\n",
       "      <td>20</td>\n",
       "      <td>Amazon</td>\n",
       "      <td>4</td>\n",
       "      <td>Bangalore</td>\n",
       "      <td>680000</td>\n",
       "    </tr>\n",
       "    <tr>\n",
       "      <td>21</td>\n",
       "      <td>Accenture</td>\n",
       "      <td>4</td>\n",
       "      <td>Chennai</td>\n",
       "      <td>540000</td>\n",
       "    </tr>\n",
       "    <tr>\n",
       "      <td>22</td>\n",
       "      <td>Wipro</td>\n",
       "      <td>4</td>\n",
       "      <td>Chennai</td>\n",
       "      <td>650000</td>\n",
       "    </tr>\n",
       "    <tr>\n",
       "      <td>23</td>\n",
       "      <td>Amazon</td>\n",
       "      <td>4</td>\n",
       "      <td>Chennai</td>\n",
       "      <td>630000</td>\n",
       "    </tr>\n",
       "  </tbody>\n",
       "</table>\n",
       "</div>"
      ],
      "text/plain": [
       "    Companies  Year of experience   Location  Salary\n",
       "0   Accenture                   1  Bangalore  380000\n",
       "1       Wipro                   1  Bangalore  380000\n",
       "2      Amazon                   1  Bangalore  380000\n",
       "3   Accenture                   1    Chennai  280000\n",
       "4       Wipro                   1    Chennai  390000\n",
       "5      Amazon                   1    Chennai  330000\n",
       "6   Accenture                   2  Bangalore  490000\n",
       "7       Wipro                   2  Bangalore  440000\n",
       "8      Amazon                   2  Bangalore  490000\n",
       "9   Accenture                   2    Chennai  480000\n",
       "10      Wipro                   2    Chennai  420000\n",
       "11     Amazon                   2    Chennai  390000\n",
       "12  Accenture                   3  Bangalore  570000\n",
       "13      Wipro                   3  Bangalore  510000\n",
       "14     Amazon                   3  Bangalore  580000\n",
       "15  Accenture                   3    Chennai  480000\n",
       "16      Wipro                   3    Chennai  510000\n",
       "17     Amazon                   3    Chennai  430000\n",
       "18  Accenture                   4  Bangalore  600000\n",
       "19      Wipro                   4  Bangalore  600000\n",
       "20     Amazon                   4  Bangalore  680000\n",
       "21  Accenture                   4    Chennai  540000\n",
       "22      Wipro                   4    Chennai  650000\n",
       "23     Amazon                   4    Chennai  630000"
      ]
     },
     "execution_count": 3,
     "metadata": {},
     "output_type": "execute_result"
    }
   ],
   "source": [
    "dataset"
   ]
  },
  {
   "cell_type": "code",
   "execution_count": 4,
   "metadata": {},
   "outputs": [
    {
     "data": {
      "text/plain": [
       "Companies             0\n",
       "Year of experience    0\n",
       "Location              0\n",
       "Salary                0\n",
       "dtype: int64"
      ]
     },
     "execution_count": 4,
     "metadata": {},
     "output_type": "execute_result"
    }
   ],
   "source": [
    "dataset.isnull().sum()"
   ]
  },
  {
   "cell_type": "markdown",
   "metadata": {},
   "source": [
    "# From py File importing Class and save into a obj variable"
   ]
  },
  {
   "cell_type": "code",
   "execution_count": 5,
   "metadata": {},
   "outputs": [],
   "source": [
    "from Univarite import Univarite\n",
    "obj=Univarite()"
   ]
  },
  {
   "cell_type": "markdown",
   "metadata": {},
   "source": [
    "# From  class importing QuanQual function and save into a quan,qual variable"
   ]
  },
  {
   "cell_type": "code",
   "execution_count": 6,
   "metadata": {},
   "outputs": [
    {
     "name": "stdout",
     "output_type": "stream",
     "text": [
      "Quan: ['Year of experience', 'Salary']\n",
      "Qual: ['Companies', 'Location']\n"
     ]
    }
   ],
   "source": [
    "quan,qual=obj.QuanQual(dataset)"
   ]
  },
  {
   "cell_type": "markdown",
   "metadata": {},
   "source": [
    "# Mean of salary column "
   ]
  },
  {
   "cell_type": "code",
   "execution_count": 7,
   "metadata": {},
   "outputs": [
    {
     "data": {
      "text/plain": [
       "484583.3333333333"
      ]
     },
     "execution_count": 7,
     "metadata": {},
     "output_type": "execute_result"
    }
   ],
   "source": [
    "dataset[\"Salary\"].mean()"
   ]
  },
  {
   "cell_type": "markdown",
   "metadata": {},
   "source": [
    "# Median of salary column"
   ]
  },
  {
   "cell_type": "code",
   "execution_count": 8,
   "metadata": {},
   "outputs": [
    {
     "data": {
      "text/plain": [
       "485000.0"
      ]
     },
     "execution_count": 8,
     "metadata": {},
     "output_type": "execute_result"
    }
   ],
   "source": [
    "dataset[\"Salary\"].median()"
   ]
  },
  {
   "cell_type": "markdown",
   "metadata": {},
   "source": [
    "# Mode of salary column"
   ]
  },
  {
   "cell_type": "code",
   "execution_count": 9,
   "metadata": {},
   "outputs": [
    {
     "data": {
      "text/plain": [
       "380000"
      ]
     },
     "execution_count": 9,
     "metadata": {},
     "output_type": "execute_result"
    }
   ],
   "source": [
    "dataset[\"Salary\"].mode()[0]"
   ]
  },
  {
   "cell_type": "code",
   "execution_count": 10,
   "metadata": {},
   "outputs": [],
   "source": [
    "univariate=pd.DataFrame(index=[\"Mean\",\"Median\",\"Mode\"],columns=quan)"
   ]
  },
  {
   "cell_type": "code",
   "execution_count": 11,
   "metadata": {},
   "outputs": [
    {
     "data": {
      "text/plain": [
       "nan"
      ]
     },
     "execution_count": 11,
     "metadata": {},
     "output_type": "execute_result"
    }
   ],
   "source": [
    "univariate[\"Year of experience\"][\"Mean\"]"
   ]
  },
  {
   "cell_type": "markdown",
   "metadata": {},
   "source": [
    "# Basic information of Quantitative data set"
   ]
  },
  {
   "cell_type": "code",
   "execution_count": 12,
   "metadata": {},
   "outputs": [
    {
     "data": {
      "text/html": [
       "<div>\n",
       "<style scoped>\n",
       "    .dataframe tbody tr th:only-of-type {\n",
       "        vertical-align: middle;\n",
       "    }\n",
       "\n",
       "    .dataframe tbody tr th {\n",
       "        vertical-align: top;\n",
       "    }\n",
       "\n",
       "    .dataframe thead th {\n",
       "        text-align: right;\n",
       "    }\n",
       "</style>\n",
       "<table border=\"1\" class=\"dataframe\">\n",
       "  <thead>\n",
       "    <tr style=\"text-align: right;\">\n",
       "      <th></th>\n",
       "      <th>Year of experience</th>\n",
       "      <th>Salary</th>\n",
       "    </tr>\n",
       "  </thead>\n",
       "  <tbody>\n",
       "    <tr>\n",
       "      <td>count</td>\n",
       "      <td>24.00000</td>\n",
       "      <td>24.000000</td>\n",
       "    </tr>\n",
       "    <tr>\n",
       "      <td>mean</td>\n",
       "      <td>2.50000</td>\n",
       "      <td>484583.333333</td>\n",
       "    </tr>\n",
       "    <tr>\n",
       "      <td>std</td>\n",
       "      <td>1.14208</td>\n",
       "      <td>106280.153437</td>\n",
       "    </tr>\n",
       "    <tr>\n",
       "      <td>min</td>\n",
       "      <td>1.00000</td>\n",
       "      <td>280000.000000</td>\n",
       "    </tr>\n",
       "    <tr>\n",
       "      <td>25%</td>\n",
       "      <td>1.75000</td>\n",
       "      <td>390000.000000</td>\n",
       "    </tr>\n",
       "    <tr>\n",
       "      <td>50%</td>\n",
       "      <td>2.50000</td>\n",
       "      <td>485000.000000</td>\n",
       "    </tr>\n",
       "    <tr>\n",
       "      <td>75%</td>\n",
       "      <td>3.25000</td>\n",
       "      <td>572500.000000</td>\n",
       "    </tr>\n",
       "    <tr>\n",
       "      <td>max</td>\n",
       "      <td>4.00000</td>\n",
       "      <td>680000.000000</td>\n",
       "    </tr>\n",
       "  </tbody>\n",
       "</table>\n",
       "</div>"
      ],
      "text/plain": [
       "       Year of experience         Salary\n",
       "count            24.00000      24.000000\n",
       "mean              2.50000  484583.333333\n",
       "std               1.14208  106280.153437\n",
       "min               1.00000  280000.000000\n",
       "25%               1.75000  390000.000000\n",
       "50%               2.50000  485000.000000\n",
       "75%               3.25000  572500.000000\n",
       "max               4.00000  680000.000000"
      ]
     },
     "execution_count": 12,
     "metadata": {},
     "output_type": "execute_result"
    }
   ],
   "source": [
    "dataset.describe()"
   ]
  },
  {
   "cell_type": "markdown",
   "metadata": {},
   "source": [
    "# Importing numpy Librarie and Calculating the percentile for salary column"
   ]
  },
  {
   "cell_type": "code",
   "execution_count": 13,
   "metadata": {},
   "outputs": [
    {
     "data": {
      "text/plain": [
       "291500.0"
      ]
     },
     "execution_count": 13,
     "metadata": {},
     "output_type": "execute_result"
    }
   ],
   "source": [
    "import numpy as np\n",
    "np.percentile(dataset[\"Salary\"],1)"
   ]
  },
  {
   "cell_type": "markdown",
   "metadata": {},
   "source": [
    "##  Minimum salary of data analyst"
   ]
  },
  {
   "cell_type": "code",
   "execution_count": 14,
   "metadata": {},
   "outputs": [
    {
     "data": {
      "text/plain": [
       "280000"
      ]
     },
     "execution_count": 14,
     "metadata": {},
     "output_type": "execute_result"
    }
   ],
   "source": [
    "dataset[\"Salary\"].min()"
   ]
  },
  {
   "cell_type": "markdown",
   "metadata": {},
   "source": [
    "#  Highest salary of data analyst"
   ]
  },
  {
   "cell_type": "code",
   "execution_count": 15,
   "metadata": {},
   "outputs": [
    {
     "data": {
      "text/plain": [
       "680000"
      ]
     },
     "execution_count": 15,
     "metadata": {},
     "output_type": "execute_result"
    }
   ],
   "source": [
    "dataset[\"Salary\"].max()"
   ]
  },
  {
   "cell_type": "markdown",
   "metadata": {},
   "source": [
    "# Variance for salary column "
   ]
  },
  {
   "cell_type": "code",
   "execution_count": 16,
   "metadata": {},
   "outputs": [
    {
     "data": {
      "text/plain": [
       "11295471014.492756"
      ]
     },
     "execution_count": 16,
     "metadata": {},
     "output_type": "execute_result"
    }
   ],
   "source": [
    "dataset[\"Salary\"].var()"
   ]
  },
  {
   "cell_type": "markdown",
   "metadata": {},
   "source": [
    "# Standard Deviation for salary column"
   ]
  },
  {
   "cell_type": "code",
   "execution_count": 17,
   "metadata": {},
   "outputs": [
    {
     "data": {
      "text/plain": [
       "106280.15343653187"
      ]
     },
     "execution_count": 17,
     "metadata": {},
     "output_type": "execute_result"
    }
   ],
   "source": [
    "dataset[\"Salary\"].std()"
   ]
  },
  {
   "cell_type": "markdown",
   "metadata": {},
   "source": [
    "# Kurtosis for salary column"
   ]
  },
  {
   "cell_type": "code",
   "execution_count": 18,
   "metadata": {},
   "outputs": [
    {
     "data": {
      "text/plain": [
       "-1.3939393939393936"
      ]
     },
     "execution_count": 18,
     "metadata": {},
     "output_type": "execute_result"
    }
   ],
   "source": [
    "dataset[\"Year of experience\"].kurtosis()"
   ]
  },
  {
   "cell_type": "markdown",
   "metadata": {},
   "source": [
    "# Skewness for salary column"
   ]
  },
  {
   "cell_type": "code",
   "execution_count": 19,
   "metadata": {},
   "outputs": [
    {
     "data": {
      "text/plain": [
       "0.0"
      ]
     },
     "execution_count": 19,
     "metadata": {},
     "output_type": "execute_result"
    }
   ],
   "source": [
    "dataset[\"Year of experience\"].skew()"
   ]
  },
  {
   "cell_type": "markdown",
   "metadata": {},
   "source": [
    "# Using for loop to print mean,median,mode...Skew,Kurtosis values for Quantitative data"
   ]
  },
  {
   "cell_type": "code",
   "execution_count": 20,
   "metadata": {},
   "outputs": [
    {
     "name": "stdout",
     "output_type": "stream",
     "text": [
      "Year of experience\n",
      "Salary\n"
     ]
    }
   ],
   "source": [
    "univariate=pd.DataFrame(index=[\"Mean\",\"Median\",\"Mode\",\"Min\",\"25%\",\"50%\",\"75%\",\n",
    "                               \"Max\",\"IQR\",\"1.5rule\",\"Lesser\",\"Greater\",\"Variance\",\"Std\",\"Skew\",\"Kurtosis\"],columns=quan)\n",
    "for column in quan:\n",
    "    print(column)\n",
    "    univariate[column][\"Mean\"]=dataset[column].mean()\n",
    "    univariate[column][\"Median\"]=dataset[column].median()\n",
    "    univariate[column][\"Mode\"]=dataset[column].mode()[0]\n",
    "    univariate[column][\"Min\"]=dataset[column].min()\n",
    "    univariate[column][\"25%\"]=np.percentile(dataset[column],25)\n",
    "    univariate[column][\"50%\"]=np.percentile(dataset[column],50)\n",
    "    univariate[column][\"75%\"]=np.percentile(dataset[column],75)\n",
    "    univariate[column][\"Max\"]=np.percentile(dataset[column],100)\n",
    "    univariate[column][\"IQR\"]=univariate[column][\"75%\"]-univariate[column][\"25%\"]\n",
    "    univariate[column][\"1.5rule\"]=1.5*univariate[column][\"IQR\"]\n",
    "    univariate[column][\"Lesser\"]=univariate[column][\"25%\"]-univariate[column][\"1.5rule\"]\n",
    "    univariate[column][\"Greater\"]=univariate[column][\"75%\"]+univariate[column][\"1.5rule\"]\n",
    "    univariate[column][\"Variance\"]=dataset[column].var()\n",
    "    univariate[column][\"Std\"]=dataset[column].std()\n",
    "    univariate[column][\"Skew\"]=dataset[column].skew()\n",
    "    univariate[column][\"Kurtosis\"]=dataset[column].kurtosis()  \n",
    "    "
   ]
  },
  {
   "cell_type": "code",
   "execution_count": 21,
   "metadata": {},
   "outputs": [],
   "source": [
    "lesser=[]\n",
    "greater=[]\n",
    "for column in quan:\n",
    "    if(univariate[column][\"Min\"]<univariate[column][\"Lesser\"]):\n",
    "        lesser.append(column)\n",
    "    if(univariate[column][\"Max\"]>univariate[column][\"Greater\"]):\n",
    "        greater.append(column)"
   ]
  },
  {
   "cell_type": "code",
   "execution_count": 22,
   "metadata": {},
   "outputs": [
    {
     "data": {
      "text/plain": [
       "[]"
      ]
     },
     "execution_count": 22,
     "metadata": {},
     "output_type": "execute_result"
    }
   ],
   "source": [
    "lesser"
   ]
  },
  {
   "cell_type": "code",
   "execution_count": 23,
   "metadata": {},
   "outputs": [
    {
     "data": {
      "text/plain": [
       "[]"
      ]
     },
     "execution_count": 23,
     "metadata": {},
     "output_type": "execute_result"
    }
   ],
   "source": [
    "greater"
   ]
  },
  {
   "cell_type": "code",
   "execution_count": 24,
   "metadata": {},
   "outputs": [
    {
     "data": {
      "text/plain": [
       "116250.0"
      ]
     },
     "execution_count": 24,
     "metadata": {},
     "output_type": "execute_result"
    }
   ],
   "source": [
    "univariate[\"Salary\"][\"Lesser\"]"
   ]
  },
  {
   "cell_type": "code",
   "execution_count": 25,
   "metadata": {},
   "outputs": [
    {
     "data": {
      "text/html": [
       "<div>\n",
       "<style scoped>\n",
       "    .dataframe tbody tr th:only-of-type {\n",
       "        vertical-align: middle;\n",
       "    }\n",
       "\n",
       "    .dataframe tbody tr th {\n",
       "        vertical-align: top;\n",
       "    }\n",
       "\n",
       "    .dataframe thead th {\n",
       "        text-align: right;\n",
       "    }\n",
       "</style>\n",
       "<table border=\"1\" class=\"dataframe\">\n",
       "  <thead>\n",
       "    <tr style=\"text-align: right;\">\n",
       "      <th></th>\n",
       "      <th>Year of experience</th>\n",
       "      <th>Salary</th>\n",
       "    </tr>\n",
       "  </thead>\n",
       "  <tbody>\n",
       "    <tr>\n",
       "      <td>Mean</td>\n",
       "      <td>2.5</td>\n",
       "      <td>484583</td>\n",
       "    </tr>\n",
       "    <tr>\n",
       "      <td>Median</td>\n",
       "      <td>2.5</td>\n",
       "      <td>485000</td>\n",
       "    </tr>\n",
       "    <tr>\n",
       "      <td>Mode</td>\n",
       "      <td>1</td>\n",
       "      <td>380000</td>\n",
       "    </tr>\n",
       "    <tr>\n",
       "      <td>Min</td>\n",
       "      <td>1</td>\n",
       "      <td>280000</td>\n",
       "    </tr>\n",
       "    <tr>\n",
       "      <td>25%</td>\n",
       "      <td>1.75</td>\n",
       "      <td>390000</td>\n",
       "    </tr>\n",
       "    <tr>\n",
       "      <td>50%</td>\n",
       "      <td>2.5</td>\n",
       "      <td>485000</td>\n",
       "    </tr>\n",
       "    <tr>\n",
       "      <td>75%</td>\n",
       "      <td>3.25</td>\n",
       "      <td>572500</td>\n",
       "    </tr>\n",
       "    <tr>\n",
       "      <td>Max</td>\n",
       "      <td>4</td>\n",
       "      <td>680000</td>\n",
       "    </tr>\n",
       "    <tr>\n",
       "      <td>IQR</td>\n",
       "      <td>1.5</td>\n",
       "      <td>182500</td>\n",
       "    </tr>\n",
       "    <tr>\n",
       "      <td>1.5rule</td>\n",
       "      <td>2.25</td>\n",
       "      <td>273750</td>\n",
       "    </tr>\n",
       "    <tr>\n",
       "      <td>Lesser</td>\n",
       "      <td>-0.5</td>\n",
       "      <td>116250</td>\n",
       "    </tr>\n",
       "    <tr>\n",
       "      <td>Greater</td>\n",
       "      <td>5.5</td>\n",
       "      <td>846250</td>\n",
       "    </tr>\n",
       "    <tr>\n",
       "      <td>Variance</td>\n",
       "      <td>1.30435</td>\n",
       "      <td>1.12955e+10</td>\n",
       "    </tr>\n",
       "    <tr>\n",
       "      <td>Std</td>\n",
       "      <td>1.14208</td>\n",
       "      <td>106280</td>\n",
       "    </tr>\n",
       "    <tr>\n",
       "      <td>Skew</td>\n",
       "      <td>0</td>\n",
       "      <td>0.0763524</td>\n",
       "    </tr>\n",
       "    <tr>\n",
       "      <td>Kurtosis</td>\n",
       "      <td>-1.39394</td>\n",
       "      <td>-0.767555</td>\n",
       "    </tr>\n",
       "  </tbody>\n",
       "</table>\n",
       "</div>"
      ],
      "text/plain": [
       "         Year of experience       Salary\n",
       "Mean                    2.5       484583\n",
       "Median                  2.5       485000\n",
       "Mode                      1       380000\n",
       "Min                       1       280000\n",
       "25%                    1.75       390000\n",
       "50%                     2.5       485000\n",
       "75%                    3.25       572500\n",
       "Max                       4       680000\n",
       "IQR                     1.5       182500\n",
       "1.5rule                2.25       273750\n",
       "Lesser                 -0.5       116250\n",
       "Greater                 5.5       846250\n",
       "Variance            1.30435  1.12955e+10\n",
       "Std                 1.14208       106280\n",
       "Skew                      0    0.0763524\n",
       "Kurtosis           -1.39394    -0.767555"
      ]
     },
     "execution_count": 25,
     "metadata": {},
     "output_type": "execute_result"
    }
   ],
   "source": [
    "univariate"
   ]
  },
  {
   "cell_type": "markdown",
   "metadata": {},
   "source": [
    "# Descriptive\n",
    "#### 25% of Data Analyst salary falls between 280000 to 390000\n",
    "### 50% of Data Analyst salary falls between 280000 to 485000\n",
    "## 75% of Data Analyst salary falls between 280000 to 572500\n",
    "# Reminig 25% of Data Analyst Salary falls between 280000 to 680000"
   ]
  },
  {
   "attachments": {
    "Salary_Infographic.JPG": {
     "image/jpeg": "[encoded data removed]"
    }
   },
   "cell_type": "markdown",
   "metadata": {},
   "source": [
    "![Salary_Infographic.JPG](attachment:Salary_Infographic.JPG)"
   ]
  },
  {
   "cell_type": "markdown",
   "metadata": {},
   "source": [
    "# Inference\n",
    "### First 75% of data Analyst salary is lesser than compared to Last 25% of Data Analyst \n",
    "### Because the last 25% of Data Analyst have more skills and experience in this field\n",
    "## If the 75% of Data Analyst improve their skills and experience to get more salary"
   ]
  },
  {
   "cell_type": "code",
   "execution_count": 26,
   "metadata": {},
   "outputs": [],
   "source": [
    "import seaborn as sns"
   ]
  },
  {
   "cell_type": "code",
   "execution_count": 27,
   "metadata": {},
   "outputs": [
    {
     "data": {
      "text/plain": [
       "<matplotlib.axes._subplots.AxesSubplot at 0x21c174a1e08>"
      ]
     },
     "execution_count": 27,
     "metadata": {},
     "output_type": "execute_result"
    },
    {
     "data": {
      "image/png": "[encoded data removed]",
      "text/plain": [
       "<Figure size 432x288 with 1 Axes>"
      ]
     },
     "metadata": {
      "needs_background": "light"
     },
     "output_type": "display_data"
    }
   ],
   "source": [
    "sns.distplot(dataset[\"Salary\"])"
   ]
  },
  {
   "cell_type": "markdown",
   "metadata": {},
   "source": [
    "# Probability density function"
   ]
  },
  {
   "cell_type": "code",
   "execution_count": 28,
   "metadata": {},
   "outputs": [],
   "source": [
    "def get_pdf_probability(dataset,startrange,endrange):\n",
    "    from matplotlib import pyplot\n",
    "    from scipy.stats import norm\n",
    "    import seaborn as sns\n",
    "    \n",
    "#Displaying the curve and histrogram of dataset using sns.distplot\n",
    "    ax = sns.distplot(dataset,kde=True,kde_kws={'color':'blue'},color='Green')\n",
    "    \n",
    "#It is helps to create a vertical line between starting and ending \n",
    "    pyplot.axvline(startrange,color='Red')\n",
    "    pyplot.axvline(endrange,color='Red')\n",
    "    \n",
    "# generate a sample dataset\n",
    "    sample = dataset\n",
    "    \n",
    "# calculate parameters\n",
    "    sample_mean =sample.mean()\n",
    "    sample_std = sample.std()\n",
    "    print('Mean=%.3f, Standard Deviation=%.3f' % (sample_mean, sample_std))\n",
    "    \n",
    "# define the distribution\n",
    "    dist = norm(sample_mean, sample_std)\n",
    "    \n",
    "# probabilities of sample dataset for a range of outcomes\n",
    "    values = [value for value in range(startrange, endrange)]\n",
    "    probabilities = [dist.pdf(value) for value in values]    \n",
    "    prob=sum(probabilities)\n",
    "    print(\"The area between range({},{}):{}\".format(startrange,endrange,sum(probabilities)))\n",
    "    return prob"
   ]
  },
  {
   "cell_type": "markdown",
   "metadata": {},
   "source": [
    "## 17% of data analyst gets salary upto 300000 to 400000 and 30% gets 500000 to 600000"
   ]
  },
  {
   "cell_type": "code",
   "execution_count": 29,
   "metadata": {},
   "outputs": [
    {
     "name": "stdout",
     "output_type": "stream",
     "text": [
      "Mean=484583.333, Standard Deviation=106280.153\n",
      "The area between range(500000,600000):0.3035868532755698\n"
     ]
    },
    {
     "data": {
      "text/plain": [
       "0.3035868532755698"
      ]
     },
     "execution_count": 29,
     "metadata": {},
     "output_type": "execute_result"
    },
    {
     "data": {
      "image/png": "[encoded data removed]",
      "text/plain": [
       "<Figure size 432x288 with 1 Axes>"
      ]
     },
     "metadata": {
      "needs_background": "light"
     },
     "output_type": "display_data"
    }
   ],
   "source": [
    "get_pdf_probability(dataset[\"Salary\"],500000,600000)"
   ]
  },
  {
   "cell_type": "markdown",
   "metadata": {},
   "source": [
    "# Cumulative Density function"
   ]
  },
  {
   "cell_type": "code",
   "execution_count": 30,
   "metadata": {},
   "outputs": [
    {
     "data": {
      "text/plain": [
       "(array([0.04166667, 0.04166667, 0.04166667, 0.04166667, 0.04166667,\n",
       "        0.04166667, 0.04166667, 0.04166667, 0.04166667, 0.04166667,\n",
       "        0.04166667, 0.04166667, 0.08333333, 0.08333333, 0.08333333,\n",
       "        0.08333333, 0.08333333, 0.08333333, 0.08333333, 0.08333333,\n",
       "        0.08333333, 0.08333333, 0.08333333, 0.08333333, 0.08333333,\n",
       "        0.20833333, 0.20833333, 0.29166667, 0.29166667, 0.29166667,\n",
       "        0.29166667, 0.29166667, 0.29166667, 0.29166667, 0.29166667,\n",
       "        0.33333333, 0.33333333, 0.375     , 0.375     , 0.375     ,\n",
       "        0.41666667, 0.41666667, 0.41666667, 0.41666667, 0.41666667,\n",
       "        0.41666667, 0.41666667, 0.41666667, 0.41666667, 0.41666667,\n",
       "        0.5       , 0.5       , 0.58333333, 0.58333333, 0.58333333,\n",
       "        0.58333333, 0.58333333, 0.66666667, 0.66666667, 0.66666667,\n",
       "        0.66666667, 0.66666667, 0.66666667, 0.66666667, 0.66666667,\n",
       "        0.70833333, 0.70833333, 0.70833333, 0.70833333, 0.70833333,\n",
       "        0.70833333, 0.70833333, 0.75      , 0.75      , 0.75      ,\n",
       "        0.79166667, 0.79166667, 0.79166667, 0.79166667, 0.79166667,\n",
       "        0.875     , 0.875     , 0.875     , 0.875     , 0.875     ,\n",
       "        0.875     , 0.875     , 0.91666667, 0.91666667, 0.91666667,\n",
       "        0.91666667, 0.91666667, 0.95833333, 0.95833333, 0.95833333,\n",
       "        0.95833333, 0.95833333, 0.95833333, 0.95833333, 1.        ]),\n",
       " array([280000., 284000., 288000., 292000., 296000., 300000., 304000.,\n",
       "        308000., 312000., 316000., 320000., 324000., 328000., 332000.,\n",
       "        336000., 340000., 344000., 348000., 352000., 356000., 360000.,\n",
       "        364000., 368000., 372000., 376000., 380000., 384000., 388000.,\n",
       "        392000., 396000., 400000., 404000., 408000., 412000., 416000.,\n",
       "        420000., 424000., 428000., 432000., 436000., 440000., 444000.,\n",
       "        448000., 452000., 456000., 460000., 464000., 468000., 472000.,\n",
       "        476000., 480000., 484000., 488000., 492000., 496000., 500000.,\n",
       "        504000., 508000., 512000., 516000., 520000., 524000., 528000.,\n",
       "        532000., 536000., 540000., 544000., 548000., 552000., 556000.,\n",
       "        560000., 564000., 568000., 572000., 576000., 580000., 584000.,\n",
       "        588000., 592000., 596000., 600000., 604000., 608000., 612000.,\n",
       "        616000., 620000., 624000., 628000., 632000., 636000., 640000.,\n",
       "        644000., 648000., 652000., 656000., 660000., 664000., 668000.,\n",
       "        672000., 676000., 680000.]),\n",
       " <a list of 100 Patch objects>)"
      ]
     },
     "execution_count": 30,
     "metadata": {},
     "output_type": "execute_result"
    },
    {
     "data": {
      "image/png": "[encoded data removed]",
      "text/plain": [
       "<Figure size 432x288 with 1 Axes>"
      ]
     },
     "metadata": {
      "needs_background": "light"
     },
     "output_type": "display_data"
    }
   ],
   "source": [
    "import matplotlib.pyplot as plt\n",
    "x=dataset['Salary']\n",
    "plt.hist(x,cumulative=True, density=True,bins=100)"
   ]
  },
  {
   "cell_type": "markdown",
   "metadata": {},
   "source": [
    "# Converting Normal Distribution to Standard Normal Distribution"
   ]
  },
  {
   "cell_type": "code",
   "execution_count": 31,
   "metadata": {},
   "outputs": [
    {
     "data": {
      "text/plain": [
       "<matplotlib.axes._subplots.AxesSubplot at 0x21c188486c8>"
      ]
     },
     "execution_count": 31,
     "metadata": {},
     "output_type": "execute_result"
    },
    {
     "data": {
      "image/png": "[encoded data removed]",
      "text/plain": [
       "<Figure size 432x288 with 1 Axes>"
      ]
     },
     "metadata": {
      "needs_background": "light"
     },
     "output_type": "display_data"
    }
   ],
   "source": [
    "sns.distplot(dataset[\"Salary\"])"
   ]
  },
  {
   "cell_type": "markdown",
   "metadata": {},
   "source": [
    "# Coverted to standard Normal Distribution"
   ]
  },
  {
   "cell_type": "code",
   "execution_count": 32,
   "metadata": {},
   "outputs": [],
   "source": [
    "def stdNBgraph(dataset):\n",
    "    mean=dataset.mean()\n",
    "    std=dataset.std()\n",
    "\n",
    "    values=[i for i in dataset]\n",
    "\n",
    "    z_score=[((j-mean)/std) for j in values]\n",
    "\n",
    "    sns.distplot(z_score,kde=True)\n",
    "\n",
    "    sum(z_score)/len(z_score)"
   ]
  },
  {
   "cell_type": "code",
   "execution_count": 33,
   "metadata": {},
   "outputs": [
    {
     "data": {
      "image/png": "[encoded data removed]",
      "text/plain": [
       "<Figure size 432x288 with 1 Axes>"
      ]
     },
     "metadata": {
      "needs_background": "light"
     },
     "output_type": "display_data"
    }
   ],
   "source": [
    "stdNBgraph(dataset[\"Salary\"])"
   ]
  }
 ],
 "metadata": {
  "kernelspec": {
   "display_name": "Python 3",
   "language": "python",
   "name": "python3"
  },
  "language_info": {
   "codemirror_mode": {
    "name": "ipython",
    "version": 3
   },
   "file_extension": ".py",
   "mimetype": "text/x-python",
   "name": "python",
   "nbconvert_exporter": "python",
   "pygments_lexer": "ipython3",
   "version": "3.7.4"
  }
 },
 "nbformat": 4,
 "nbformat_minor": 5
}
