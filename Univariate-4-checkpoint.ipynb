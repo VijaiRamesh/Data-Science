{
 "cells": [
  {
   "cell_type": "code",
   "execution_count": 1,
   "metadata": {},
   "outputs": [],
   "source": [
    "import pandas as pd"
   ]
  },
  {
   "cell_type": "markdown",
   "metadata": {},
   "source": [
    "# Read the dataset"
   ]
  },
  {
   "cell_type": "markdown",
   "metadata": {},
   "source": [
    "## Heading 2"
   ]
  },
  {
   "cell_type": "markdown",
   "metadata": {},
   "source": [
    "<img src=\"https://miro.medium.com/max/3388/1*iBCym9gMX1SHOAlcs7JLUQ.png\" alt=\"Italian Trulli\">"
   ]
  },
  {
   "cell_type": "code",
   "execution_count": 2,
   "metadata": {},
   "outputs": [],
   "source": [
    "dataset=pd.read_csv(\"Placement.csv\")"
   ]
  },
  {
   "cell_type": "code",
   "execution_count": 3,
   "metadata": {},
   "outputs": [
    {
     "data": {
      "text/html": [
       "<div>\n",
       "<style scoped>\n",
       "    .dataframe tbody tr th:only-of-type {\n",
       "        vertical-align: middle;\n",
       "    }\n",
       "\n",
       "    .dataframe tbody tr th {\n",
       "        vertical-align: top;\n",
       "    }\n",
       "\n",
       "    .dataframe thead th {\n",
       "        text-align: right;\n",
       "    }\n",
       "</style>\n",
       "<table border=\"1\" class=\"dataframe\">\n",
       "  <thead>\n",
       "    <tr style=\"text-align: right;\">\n",
       "      <th></th>\n",
       "      <th>sl_no</th>\n",
       "      <th>gender</th>\n",
       "      <th>ssc_p</th>\n",
       "      <th>ssc_b</th>\n",
       "      <th>hsc_p</th>\n",
       "      <th>hsc_b</th>\n",
       "      <th>hsc_s</th>\n",
       "      <th>degree_p</th>\n",
       "      <th>degree_t</th>\n",
       "      <th>workex</th>\n",
       "      <th>etest_p</th>\n",
       "      <th>specialisation</th>\n",
       "      <th>mba_p</th>\n",
       "      <th>status</th>\n",
       "      <th>salary</th>\n",
       "    </tr>\n",
       "  </thead>\n",
       "  <tbody>\n",
       "    <tr>\n",
       "      <td>0</td>\n",
       "      <td>1</td>\n",
       "      <td>M</td>\n",
       "      <td>67.00</td>\n",
       "      <td>Others</td>\n",
       "      <td>91.00</td>\n",
       "      <td>Others</td>\n",
       "      <td>Commerce</td>\n",
       "      <td>58.00</td>\n",
       "      <td>Sci&amp;Tech</td>\n",
       "      <td>No</td>\n",
       "      <td>55.0</td>\n",
       "      <td>Mkt&amp;HR</td>\n",
       "      <td>58.80</td>\n",
       "      <td>Placed</td>\n",
       "      <td>270000.0</td>\n",
       "    </tr>\n",
       "    <tr>\n",
       "      <td>1</td>\n",
       "      <td>2</td>\n",
       "      <td>M</td>\n",
       "      <td>79.33</td>\n",
       "      <td>Central</td>\n",
       "      <td>78.33</td>\n",
       "      <td>Others</td>\n",
       "      <td>Science</td>\n",
       "      <td>77.48</td>\n",
       "      <td>Sci&amp;Tech</td>\n",
       "      <td>Yes</td>\n",
       "      <td>86.5</td>\n",
       "      <td>Mkt&amp;Fin</td>\n",
       "      <td>66.28</td>\n",
       "      <td>Placed</td>\n",
       "      <td>200000.0</td>\n",
       "    </tr>\n",
       "    <tr>\n",
       "      <td>2</td>\n",
       "      <td>3</td>\n",
       "      <td>M</td>\n",
       "      <td>65.00</td>\n",
       "      <td>Central</td>\n",
       "      <td>68.00</td>\n",
       "      <td>Central</td>\n",
       "      <td>Arts</td>\n",
       "      <td>64.00</td>\n",
       "      <td>Comm&amp;Mgmt</td>\n",
       "      <td>No</td>\n",
       "      <td>75.0</td>\n",
       "      <td>Mkt&amp;Fin</td>\n",
       "      <td>57.80</td>\n",
       "      <td>Placed</td>\n",
       "      <td>250000.0</td>\n",
       "    </tr>\n",
       "    <tr>\n",
       "      <td>3</td>\n",
       "      <td>4</td>\n",
       "      <td>M</td>\n",
       "      <td>56.00</td>\n",
       "      <td>Central</td>\n",
       "      <td>52.00</td>\n",
       "      <td>Central</td>\n",
       "      <td>Science</td>\n",
       "      <td>52.00</td>\n",
       "      <td>Sci&amp;Tech</td>\n",
       "      <td>No</td>\n",
       "      <td>66.0</td>\n",
       "      <td>Mkt&amp;HR</td>\n",
       "      <td>59.43</td>\n",
       "      <td>Not Placed</td>\n",
       "      <td>NaN</td>\n",
       "    </tr>\n",
       "    <tr>\n",
       "      <td>4</td>\n",
       "      <td>5</td>\n",
       "      <td>M</td>\n",
       "      <td>85.80</td>\n",
       "      <td>Central</td>\n",
       "      <td>73.60</td>\n",
       "      <td>Central</td>\n",
       "      <td>Commerce</td>\n",
       "      <td>73.30</td>\n",
       "      <td>Comm&amp;Mgmt</td>\n",
       "      <td>No</td>\n",
       "      <td>96.8</td>\n",
       "      <td>Mkt&amp;Fin</td>\n",
       "      <td>55.50</td>\n",
       "      <td>Placed</td>\n",
       "      <td>425000.0</td>\n",
       "    </tr>\n",
       "    <tr>\n",
       "      <td>...</td>\n",
       "      <td>...</td>\n",
       "      <td>...</td>\n",
       "      <td>...</td>\n",
       "      <td>...</td>\n",
       "      <td>...</td>\n",
       "      <td>...</td>\n",
       "      <td>...</td>\n",
       "      <td>...</td>\n",
       "      <td>...</td>\n",
       "      <td>...</td>\n",
       "      <td>...</td>\n",
       "      <td>...</td>\n",
       "      <td>...</td>\n",
       "      <td>...</td>\n",
       "      <td>...</td>\n",
       "    </tr>\n",
       "    <tr>\n",
       "      <td>210</td>\n",
       "      <td>211</td>\n",
       "      <td>M</td>\n",
       "      <td>80.60</td>\n",
       "      <td>Others</td>\n",
       "      <td>82.00</td>\n",
       "      <td>Others</td>\n",
       "      <td>Commerce</td>\n",
       "      <td>77.60</td>\n",
       "      <td>Comm&amp;Mgmt</td>\n",
       "      <td>No</td>\n",
       "      <td>91.0</td>\n",
       "      <td>Mkt&amp;Fin</td>\n",
       "      <td>74.49</td>\n",
       "      <td>Placed</td>\n",
       "      <td>400000.0</td>\n",
       "    </tr>\n",
       "    <tr>\n",
       "      <td>211</td>\n",
       "      <td>212</td>\n",
       "      <td>M</td>\n",
       "      <td>58.00</td>\n",
       "      <td>Others</td>\n",
       "      <td>60.00</td>\n",
       "      <td>Others</td>\n",
       "      <td>Science</td>\n",
       "      <td>72.00</td>\n",
       "      <td>Sci&amp;Tech</td>\n",
       "      <td>No</td>\n",
       "      <td>74.0</td>\n",
       "      <td>Mkt&amp;Fin</td>\n",
       "      <td>53.62</td>\n",
       "      <td>Placed</td>\n",
       "      <td>275000.0</td>\n",
       "    </tr>\n",
       "    <tr>\n",
       "      <td>212</td>\n",
       "      <td>213</td>\n",
       "      <td>M</td>\n",
       "      <td>67.00</td>\n",
       "      <td>Others</td>\n",
       "      <td>67.00</td>\n",
       "      <td>Others</td>\n",
       "      <td>Commerce</td>\n",
       "      <td>73.00</td>\n",
       "      <td>Comm&amp;Mgmt</td>\n",
       "      <td>Yes</td>\n",
       "      <td>59.0</td>\n",
       "      <td>Mkt&amp;Fin</td>\n",
       "      <td>69.72</td>\n",
       "      <td>Placed</td>\n",
       "      <td>295000.0</td>\n",
       "    </tr>\n",
       "    <tr>\n",
       "      <td>213</td>\n",
       "      <td>214</td>\n",
       "      <td>F</td>\n",
       "      <td>74.00</td>\n",
       "      <td>Others</td>\n",
       "      <td>66.00</td>\n",
       "      <td>Others</td>\n",
       "      <td>Commerce</td>\n",
       "      <td>58.00</td>\n",
       "      <td>Comm&amp;Mgmt</td>\n",
       "      <td>No</td>\n",
       "      <td>70.0</td>\n",
       "      <td>Mkt&amp;HR</td>\n",
       "      <td>60.23</td>\n",
       "      <td>Placed</td>\n",
       "      <td>204000.0</td>\n",
       "    </tr>\n",
       "    <tr>\n",
       "      <td>214</td>\n",
       "      <td>215</td>\n",
       "      <td>M</td>\n",
       "      <td>62.00</td>\n",
       "      <td>Central</td>\n",
       "      <td>58.00</td>\n",
       "      <td>Others</td>\n",
       "      <td>Science</td>\n",
       "      <td>53.00</td>\n",
       "      <td>Comm&amp;Mgmt</td>\n",
       "      <td>No</td>\n",
       "      <td>89.0</td>\n",
       "      <td>Mkt&amp;HR</td>\n",
       "      <td>60.22</td>\n",
       "      <td>Not Placed</td>\n",
       "      <td>NaN</td>\n",
       "    </tr>\n",
       "  </tbody>\n",
       "</table>\n",
       "<p>215 rows × 15 columns</p>\n",
       "</div>"
      ],
      "text/plain": [
       "     sl_no gender  ssc_p    ssc_b  hsc_p    hsc_b     hsc_s  degree_p  \\\n",
       "0        1      M  67.00   Others  91.00   Others  Commerce     58.00   \n",
       "1        2      M  79.33  Central  78.33   Others   Science     77.48   \n",
       "2        3      M  65.00  Central  68.00  Central      Arts     64.00   \n",
       "3        4      M  56.00  Central  52.00  Central   Science     52.00   \n",
       "4        5      M  85.80  Central  73.60  Central  Commerce     73.30   \n",
       "..     ...    ...    ...      ...    ...      ...       ...       ...   \n",
       "210    211      M  80.60   Others  82.00   Others  Commerce     77.60   \n",
       "211    212      M  58.00   Others  60.00   Others   Science     72.00   \n",
       "212    213      M  67.00   Others  67.00   Others  Commerce     73.00   \n",
       "213    214      F  74.00   Others  66.00   Others  Commerce     58.00   \n",
       "214    215      M  62.00  Central  58.00   Others   Science     53.00   \n",
       "\n",
       "      degree_t workex  etest_p specialisation  mba_p      status    salary  \n",
       "0     Sci&Tech     No     55.0         Mkt&HR  58.80      Placed  270000.0  \n",
       "1     Sci&Tech    Yes     86.5        Mkt&Fin  66.28      Placed  200000.0  \n",
       "2    Comm&Mgmt     No     75.0        Mkt&Fin  57.80      Placed  250000.0  \n",
       "3     Sci&Tech     No     66.0         Mkt&HR  59.43  Not Placed       NaN  \n",
       "4    Comm&Mgmt     No     96.8        Mkt&Fin  55.50      Placed  425000.0  \n",
       "..         ...    ...      ...            ...    ...         ...       ...  \n",
       "210  Comm&Mgmt     No     91.0        Mkt&Fin  74.49      Placed  400000.0  \n",
       "211   Sci&Tech     No     74.0        Mkt&Fin  53.62      Placed  275000.0  \n",
       "212  Comm&Mgmt    Yes     59.0        Mkt&Fin  69.72      Placed  295000.0  \n",
       "213  Comm&Mgmt     No     70.0         Mkt&HR  60.23      Placed  204000.0  \n",
       "214  Comm&Mgmt     No     89.0         Mkt&HR  60.22  Not Placed       NaN  \n",
       "\n",
       "[215 rows x 15 columns]"
      ]
     },
     "execution_count": 3,
     "metadata": {},
     "output_type": "execute_result"
    }
   ],
   "source": [
    "dataset"
   ]
  },
  {
   "cell_type": "code",
   "execution_count": 4,
   "metadata": {},
   "outputs": [
    {
     "data": {
      "text/plain": [
       "sl_no              0\n",
       "gender             0\n",
       "ssc_p              0\n",
       "ssc_b              0\n",
       "hsc_p              0\n",
       "hsc_b              0\n",
       "hsc_s              0\n",
       "degree_p           0\n",
       "degree_t           0\n",
       "workex             0\n",
       "etest_p            0\n",
       "specialisation     0\n",
       "mba_p              0\n",
       "status             0\n",
       "salary            67\n",
       "dtype: int64"
      ]
     },
     "execution_count": 4,
     "metadata": {},
     "output_type": "execute_result"
    }
   ],
   "source": [
    "dataset.isnull().sum()"
   ]
  },
  {
   "cell_type": "code",
   "execution_count": 5,
   "metadata": {},
   "outputs": [],
   "source": [
    "from Univarite import Univarite\n",
    "obj=Univarite()"
   ]
  },
  {
   "cell_type": "code",
   "execution_count": 6,
   "metadata": {},
   "outputs": [
    {
     "name": "stdout",
     "output_type": "stream",
     "text": [
      "Quan: ['sl_no', 'ssc_p', 'hsc_p', 'degree_p', 'etest_p', 'mba_p', 'salary']\n",
      "Qual: ['gender', 'ssc_b', 'hsc_b', 'hsc_s', 'degree_t', 'workex', 'specialisation', 'status']\n"
     ]
    }
   ],
   "source": [
    "quan,qual=obj.QuanQual(dataset)"
   ]
  },
  {
   "cell_type": "code",
   "execution_count": 7,
   "metadata": {},
   "outputs": [
    {
     "data": {
      "text/plain": [
       "67.3033953488372"
      ]
     },
     "execution_count": 7,
     "metadata": {},
     "output_type": "execute_result"
    }
   ],
   "source": [
    "dataset[\"ssc_p\"].mean()#"
   ]
  },
  {
   "cell_type": "code",
   "execution_count": 8,
   "metadata": {},
   "outputs": [
    {
     "data": {
      "text/plain": [
       "67.0"
      ]
     },
     "execution_count": 8,
     "metadata": {},
     "output_type": "execute_result"
    }
   ],
   "source": [
    "dataset[\"ssc_p\"].median()#"
   ]
  },
  {
   "cell_type": "code",
   "execution_count": 9,
   "metadata": {},
   "outputs": [
    {
     "data": {
      "text/plain": [
       "0    300000.0\n",
       "dtype: float64"
      ]
     },
     "execution_count": 9,
     "metadata": {},
     "output_type": "execute_result"
    }
   ],
   "source": [
    "dataset[\"salary\"].mode()#"
   ]
  },
  {
   "cell_type": "code",
   "execution_count": 10,
   "metadata": {},
   "outputs": [],
   "source": [
    "univariate=pd.DataFrame(index=[\"Mean\",\"Median\",\"Mode\"],columns=quan)"
   ]
  },
  {
   "cell_type": "code",
   "execution_count": 11,
   "metadata": {},
   "outputs": [
    {
     "data": {
      "text/plain": [
       "nan"
      ]
     },
     "execution_count": 11,
     "metadata": {},
     "output_type": "execute_result"
    }
   ],
   "source": [
    "univariate[\"ssc_p\"][\"Mean\"]"
   ]
  },
  {
   "cell_type": "code",
   "execution_count": 12,
   "metadata": {},
   "outputs": [
    {
     "data": {
      "text/html": [
       "<div>\n",
       "<style scoped>\n",
       "    .dataframe tbody tr th:only-of-type {\n",
       "        vertical-align: middle;\n",
       "    }\n",
       "\n",
       "    .dataframe tbody tr th {\n",
       "        vertical-align: top;\n",
       "    }\n",
       "\n",
       "    .dataframe thead th {\n",
       "        text-align: right;\n",
       "    }\n",
       "</style>\n",
       "<table border=\"1\" class=\"dataframe\">\n",
       "  <thead>\n",
       "    <tr style=\"text-align: right;\">\n",
       "      <th></th>\n",
       "      <th>sl_no</th>\n",
       "      <th>ssc_p</th>\n",
       "      <th>hsc_p</th>\n",
       "      <th>degree_p</th>\n",
       "      <th>etest_p</th>\n",
       "      <th>mba_p</th>\n",
       "      <th>salary</th>\n",
       "    </tr>\n",
       "  </thead>\n",
       "  <tbody>\n",
       "    <tr>\n",
       "      <td>Mean</td>\n",
       "      <td>NaN</td>\n",
       "      <td>NaN</td>\n",
       "      <td>NaN</td>\n",
       "      <td>NaN</td>\n",
       "      <td>NaN</td>\n",
       "      <td>NaN</td>\n",
       "      <td>NaN</td>\n",
       "    </tr>\n",
       "    <tr>\n",
       "      <td>Median</td>\n",
       "      <td>NaN</td>\n",
       "      <td>NaN</td>\n",
       "      <td>NaN</td>\n",
       "      <td>NaN</td>\n",
       "      <td>NaN</td>\n",
       "      <td>NaN</td>\n",
       "      <td>NaN</td>\n",
       "    </tr>\n",
       "    <tr>\n",
       "      <td>Mode</td>\n",
       "      <td>NaN</td>\n",
       "      <td>NaN</td>\n",
       "      <td>NaN</td>\n",
       "      <td>NaN</td>\n",
       "      <td>NaN</td>\n",
       "      <td>NaN</td>\n",
       "      <td>NaN</td>\n",
       "    </tr>\n",
       "  </tbody>\n",
       "</table>\n",
       "</div>"
      ],
      "text/plain": [
       "       sl_no ssc_p hsc_p degree_p etest_p mba_p salary\n",
       "Mean     NaN   NaN   NaN      NaN     NaN   NaN    NaN\n",
       "Median   NaN   NaN   NaN      NaN     NaN   NaN    NaN\n",
       "Mode     NaN   NaN   NaN      NaN     NaN   NaN    NaN"
      ]
     },
     "execution_count": 12,
     "metadata": {},
     "output_type": "execute_result"
    }
   ],
   "source": [
    "univariate"
   ]
  },
  {
   "cell_type": "code",
   "execution_count": 13,
   "metadata": {},
   "outputs": [
    {
     "name": "stdout",
     "output_type": "stream",
     "text": [
      "sl_no\n",
      "ssc_p\n",
      "hsc_p\n",
      "degree_p\n",
      "etest_p\n",
      "mba_p\n",
      "salary\n"
     ]
    }
   ],
   "source": [
    "for column in quan:\n",
    "    print(column)\n",
    "    univariate[column][\"Mean\"]=dataset[column].mean()\n",
    "    univariate[column][\"Median\"]=dataset[column].median()\n",
    "    univariate[column][\"Mode\"]=dataset[column].mode()[0]"
   ]
  },
  {
   "cell_type": "code",
   "execution_count": 14,
   "metadata": {},
   "outputs": [
    {
     "data": {
      "text/html": [
       "<div>\n",
       "<style scoped>\n",
       "    .dataframe tbody tr th:only-of-type {\n",
       "        vertical-align: middle;\n",
       "    }\n",
       "\n",
       "    .dataframe tbody tr th {\n",
       "        vertical-align: top;\n",
       "    }\n",
       "\n",
       "    .dataframe thead th {\n",
       "        text-align: right;\n",
       "    }\n",
       "</style>\n",
       "<table border=\"1\" class=\"dataframe\">\n",
       "  <thead>\n",
       "    <tr style=\"text-align: right;\">\n",
       "      <th></th>\n",
       "      <th>sl_no</th>\n",
       "      <th>ssc_p</th>\n",
       "      <th>hsc_p</th>\n",
       "      <th>degree_p</th>\n",
       "      <th>etest_p</th>\n",
       "      <th>mba_p</th>\n",
       "      <th>salary</th>\n",
       "    </tr>\n",
       "  </thead>\n",
       "  <tbody>\n",
       "    <tr>\n",
       "      <td>count</td>\n",
       "      <td>215.000000</td>\n",
       "      <td>215.000000</td>\n",
       "      <td>215.000000</td>\n",
       "      <td>215.000000</td>\n",
       "      <td>215.000000</td>\n",
       "      <td>215.000000</td>\n",
       "      <td>148.000000</td>\n",
       "    </tr>\n",
       "    <tr>\n",
       "      <td>mean</td>\n",
       "      <td>108.000000</td>\n",
       "      <td>67.303395</td>\n",
       "      <td>66.333163</td>\n",
       "      <td>66.370186</td>\n",
       "      <td>72.100558</td>\n",
       "      <td>62.278186</td>\n",
       "      <td>288655.405405</td>\n",
       "    </tr>\n",
       "    <tr>\n",
       "      <td>std</td>\n",
       "      <td>62.209324</td>\n",
       "      <td>10.827205</td>\n",
       "      <td>10.897509</td>\n",
       "      <td>7.358743</td>\n",
       "      <td>13.275956</td>\n",
       "      <td>5.833385</td>\n",
       "      <td>93457.452420</td>\n",
       "    </tr>\n",
       "    <tr>\n",
       "      <td>min</td>\n",
       "      <td>1.000000</td>\n",
       "      <td>40.890000</td>\n",
       "      <td>37.000000</td>\n",
       "      <td>50.000000</td>\n",
       "      <td>50.000000</td>\n",
       "      <td>51.210000</td>\n",
       "      <td>200000.000000</td>\n",
       "    </tr>\n",
       "    <tr>\n",
       "      <td>25%</td>\n",
       "      <td>54.500000</td>\n",
       "      <td>60.600000</td>\n",
       "      <td>60.900000</td>\n",
       "      <td>61.000000</td>\n",
       "      <td>60.000000</td>\n",
       "      <td>57.945000</td>\n",
       "      <td>240000.000000</td>\n",
       "    </tr>\n",
       "    <tr>\n",
       "      <td>50%</td>\n",
       "      <td>108.000000</td>\n",
       "      <td>67.000000</td>\n",
       "      <td>65.000000</td>\n",
       "      <td>66.000000</td>\n",
       "      <td>71.000000</td>\n",
       "      <td>62.000000</td>\n",
       "      <td>265000.000000</td>\n",
       "    </tr>\n",
       "    <tr>\n",
       "      <td>75%</td>\n",
       "      <td>161.500000</td>\n",
       "      <td>75.700000</td>\n",
       "      <td>73.000000</td>\n",
       "      <td>72.000000</td>\n",
       "      <td>83.500000</td>\n",
       "      <td>66.255000</td>\n",
       "      <td>300000.000000</td>\n",
       "    </tr>\n",
       "    <tr>\n",
       "      <td>max</td>\n",
       "      <td>215.000000</td>\n",
       "      <td>89.400000</td>\n",
       "      <td>97.700000</td>\n",
       "      <td>91.000000</td>\n",
       "      <td>98.000000</td>\n",
       "      <td>77.890000</td>\n",
       "      <td>940000.000000</td>\n",
       "    </tr>\n",
       "  </tbody>\n",
       "</table>\n",
       "</div>"
      ],
      "text/plain": [
       "            sl_no       ssc_p       hsc_p    degree_p     etest_p       mba_p  \\\n",
       "count  215.000000  215.000000  215.000000  215.000000  215.000000  215.000000   \n",
       "mean   108.000000   67.303395   66.333163   66.370186   72.100558   62.278186   \n",
       "std     62.209324   10.827205   10.897509    7.358743   13.275956    5.833385   \n",
       "min      1.000000   40.890000   37.000000   50.000000   50.000000   51.210000   \n",
       "25%     54.500000   60.600000   60.900000   61.000000   60.000000   57.945000   \n",
       "50%    108.000000   67.000000   65.000000   66.000000   71.000000   62.000000   \n",
       "75%    161.500000   75.700000   73.000000   72.000000   83.500000   66.255000   \n",
       "max    215.000000   89.400000   97.700000   91.000000   98.000000   77.890000   \n",
       "\n",
       "              salary  \n",
       "count     148.000000  \n",
       "mean   288655.405405  \n",
       "std     93457.452420  \n",
       "min    200000.000000  \n",
       "25%    240000.000000  \n",
       "50%    265000.000000  \n",
       "75%    300000.000000  \n",
       "max    940000.000000  "
      ]
     },
     "execution_count": 14,
     "metadata": {},
     "output_type": "execute_result"
    }
   ],
   "source": [
    "dataset.describe()"
   ]
  },
  {
   "cell_type": "code",
   "execution_count": 15,
   "metadata": {},
   "outputs": [
    {
     "data": {
      "text/plain": [
       "40.89"
      ]
     },
     "execution_count": 15,
     "metadata": {},
     "output_type": "execute_result"
    }
   ],
   "source": [
    "import numpy as np\n",
    "np.percentile(dataset[\"ssc_p\"],0)"
   ]
  },
  {
   "cell_type": "code",
   "execution_count": 16,
   "metadata": {},
   "outputs": [
    {
     "data": {
      "text/plain": [
       "40.89"
      ]
     },
     "execution_count": 16,
     "metadata": {},
     "output_type": "execute_result"
    }
   ],
   "source": [
    "dataset[\"ssc_p\"].min()"
   ]
  },
  {
   "cell_type": "code",
   "execution_count": 17,
   "metadata": {},
   "outputs": [
    {
     "data": {
      "text/plain": [
       "89.4"
      ]
     },
     "execution_count": 17,
     "metadata": {},
     "output_type": "execute_result"
    }
   ],
   "source": [
    "dataset[\"ssc_p\"].max()"
   ]
  },
  {
   "cell_type": "code",
   "execution_count": 18,
   "metadata": {},
   "outputs": [],
   "source": [
    "dataset[\"salary\"]=dataset[\"salary\"].fillna(0)"
   ]
  },
  {
   "cell_type": "code",
   "execution_count": 19,
   "metadata": {},
   "outputs": [
    {
     "data": {
      "text/plain": [
       "0.0"
      ]
     },
     "execution_count": 19,
     "metadata": {},
     "output_type": "execute_result"
    }
   ],
   "source": [
    "dataset[\"salary\"].mode()[0]#"
   ]
  },
  {
   "cell_type": "code",
   "execution_count": 20,
   "metadata": {},
   "outputs": [
    {
     "name": "stdout",
     "output_type": "stream",
     "text": [
      "sl_no\n",
      "ssc_p\n",
      "hsc_p\n",
      "degree_p\n",
      "etest_p\n",
      "mba_p\n",
      "salary\n"
     ]
    }
   ],
   "source": [
    "univariate=pd.DataFrame(index=[\"Mean\",\"Median\",\"Mode\",\"Min\",\"25%\",\"50%\",\"75%\",\"Max\"],columns=quan)\n",
    "for column in quan:\n",
    "    print(column)\n",
    "    univariate[column][\"Mean\"]=dataset[column].mean()\n",
    "    univariate[column][\"Median\"]=dataset[column].median()\n",
    "    univariate[column][\"Mode\"]=dataset[column].mode()[0]\n",
    "    univariate[column][\"Min\"]=dataset[column].min()\n",
    "    univariate[column][\"25%\"]=np.percentile(dataset[column],25)\n",
    "    univariate[column][\"50%\"]=np.percentile(dataset[column],50)\n",
    "    univariate[column][\"75%\"]=np.percentile(dataset[column],75)\n",
    "    univariate[column][\"Max\"]=np.percentile(dataset[column],100)\n",
    "    "
   ]
  },
  {
   "cell_type": "code",
   "execution_count": 21,
   "metadata": {},
   "outputs": [
    {
     "data": {
      "text/html": [
       "<div>\n",
       "<style scoped>\n",
       "    .dataframe tbody tr th:only-of-type {\n",
       "        vertical-align: middle;\n",
       "    }\n",
       "\n",
       "    .dataframe tbody tr th {\n",
       "        vertical-align: top;\n",
       "    }\n",
       "\n",
       "    .dataframe thead th {\n",
       "        text-align: right;\n",
       "    }\n",
       "</style>\n",
       "<table border=\"1\" class=\"dataframe\">\n",
       "  <thead>\n",
       "    <tr style=\"text-align: right;\">\n",
       "      <th></th>\n",
       "      <th>sl_no</th>\n",
       "      <th>ssc_p</th>\n",
       "      <th>hsc_p</th>\n",
       "      <th>degree_p</th>\n",
       "      <th>etest_p</th>\n",
       "      <th>mba_p</th>\n",
       "      <th>salary</th>\n",
       "    </tr>\n",
       "  </thead>\n",
       "  <tbody>\n",
       "    <tr>\n",
       "      <td>Mean</td>\n",
       "      <td>108</td>\n",
       "      <td>67.3034</td>\n",
       "      <td>66.3332</td>\n",
       "      <td>66.3702</td>\n",
       "      <td>72.1006</td>\n",
       "      <td>62.2782</td>\n",
       "      <td>198702</td>\n",
       "    </tr>\n",
       "    <tr>\n",
       "      <td>Median</td>\n",
       "      <td>108</td>\n",
       "      <td>67</td>\n",
       "      <td>65</td>\n",
       "      <td>66</td>\n",
       "      <td>71</td>\n",
       "      <td>62</td>\n",
       "      <td>240000</td>\n",
       "    </tr>\n",
       "    <tr>\n",
       "      <td>Mode</td>\n",
       "      <td>1</td>\n",
       "      <td>62</td>\n",
       "      <td>63</td>\n",
       "      <td>65</td>\n",
       "      <td>60</td>\n",
       "      <td>56.7</td>\n",
       "      <td>0</td>\n",
       "    </tr>\n",
       "    <tr>\n",
       "      <td>Min</td>\n",
       "      <td>1</td>\n",
       "      <td>40.89</td>\n",
       "      <td>37</td>\n",
       "      <td>50</td>\n",
       "      <td>50</td>\n",
       "      <td>51.21</td>\n",
       "      <td>0</td>\n",
       "    </tr>\n",
       "    <tr>\n",
       "      <td>25%</td>\n",
       "      <td>54.5</td>\n",
       "      <td>60.6</td>\n",
       "      <td>60.9</td>\n",
       "      <td>61</td>\n",
       "      <td>60</td>\n",
       "      <td>57.945</td>\n",
       "      <td>0</td>\n",
       "    </tr>\n",
       "    <tr>\n",
       "      <td>50%</td>\n",
       "      <td>108</td>\n",
       "      <td>67</td>\n",
       "      <td>65</td>\n",
       "      <td>66</td>\n",
       "      <td>71</td>\n",
       "      <td>62</td>\n",
       "      <td>240000</td>\n",
       "    </tr>\n",
       "    <tr>\n",
       "      <td>75%</td>\n",
       "      <td>161.5</td>\n",
       "      <td>75.7</td>\n",
       "      <td>73</td>\n",
       "      <td>72</td>\n",
       "      <td>83.5</td>\n",
       "      <td>66.255</td>\n",
       "      <td>282500</td>\n",
       "    </tr>\n",
       "    <tr>\n",
       "      <td>Max</td>\n",
       "      <td>215</td>\n",
       "      <td>89.4</td>\n",
       "      <td>97.7</td>\n",
       "      <td>91</td>\n",
       "      <td>98</td>\n",
       "      <td>77.89</td>\n",
       "      <td>940000</td>\n",
       "    </tr>\n",
       "  </tbody>\n",
       "</table>\n",
       "</div>"
      ],
      "text/plain": [
       "        sl_no    ssc_p    hsc_p degree_p  etest_p    mba_p  salary\n",
       "Mean      108  67.3034  66.3332  66.3702  72.1006  62.2782  198702\n",
       "Median    108       67       65       66       71       62  240000\n",
       "Mode        1       62       63       65       60     56.7       0\n",
       "Min         1    40.89       37       50       50    51.21       0\n",
       "25%      54.5     60.6     60.9       61       60   57.945       0\n",
       "50%       108       67       65       66       71       62  240000\n",
       "75%     161.5     75.7       73       72     83.5   66.255  282500\n",
       "Max       215     89.4     97.7       91       98    77.89  940000"
      ]
     },
     "execution_count": 21,
     "metadata": {},
     "output_type": "execute_result"
    }
   ],
   "source": [
    "univariate"
   ]
  },
  {
   "cell_type": "code",
   "execution_count": 22,
   "metadata": {},
   "outputs": [
    {
     "name": "stdout",
     "output_type": "stream",
     "text": [
      "sl_no\n",
      "ssc_p\n",
      "hsc_p\n",
      "degree_p\n",
      "etest_p\n",
      "mba_p\n",
      "salary\n"
     ]
    }
   ],
   "source": [
    "univariate=pd.DataFrame(index=[\"Mean\",\"Median\",\"Mode\",\"Min\",\"25%\",\"50%\",\"75%\",\"Max\",\"IQR\",\"1.5rule\",\"Lesser\",\"Greater\"],columns=quan)\n",
    "for column in quan:\n",
    "    print(column)\n",
    "    univariate[column][\"Mean\"]=dataset[column].mean()\n",
    "    univariate[column][\"Median\"]=dataset[column].median()\n",
    "    univariate[column][\"Mode\"]=dataset[column].mode()[0]\n",
    "    univariate[column][\"Min\"]=dataset[column].min()\n",
    "    univariate[column][\"25%\"]=np.percentile(dataset[column],25)\n",
    "    univariate[column][\"50%\"]=np.percentile(dataset[column],50)\n",
    "    univariate[column][\"75%\"]=np.percentile(dataset[column],75)\n",
    "    univariate[column][\"Max\"]=np.percentile(dataset[column],100)\n",
    "    univariate[column][\"IQR\"]=univariate[column][\"75%\"]-univariate[column][\"25%\"]\n",
    "    univariate[column][\"1.5rule\"]=1.5*univariate[column][\"IQR\"]\n",
    "    univariate[column][\"Lesser\"]=univariate[column][\"25%\"]-univariate[column][\"1.5rule\"]\n",
    "    univariate[column][\"Greater\"]=univariate[column][\"75%\"]+univariate[column][\"1.5rule\"]\n",
    "    "
   ]
  },
  {
   "cell_type": "code",
   "execution_count": 23,
   "metadata": {},
   "outputs": [
    {
     "data": {
      "text/html": [
       "<div>\n",
       "<style scoped>\n",
       "    .dataframe tbody tr th:only-of-type {\n",
       "        vertical-align: middle;\n",
       "    }\n",
       "\n",
       "    .dataframe tbody tr th {\n",
       "        vertical-align: top;\n",
       "    }\n",
       "\n",
       "    .dataframe thead th {\n",
       "        text-align: right;\n",
       "    }\n",
       "</style>\n",
       "<table border=\"1\" class=\"dataframe\">\n",
       "  <thead>\n",
       "    <tr style=\"text-align: right;\">\n",
       "      <th></th>\n",
       "      <th>sl_no</th>\n",
       "      <th>ssc_p</th>\n",
       "      <th>hsc_p</th>\n",
       "      <th>degree_p</th>\n",
       "      <th>etest_p</th>\n",
       "      <th>mba_p</th>\n",
       "      <th>salary</th>\n",
       "    </tr>\n",
       "  </thead>\n",
       "  <tbody>\n",
       "    <tr>\n",
       "      <td>Mean</td>\n",
       "      <td>108</td>\n",
       "      <td>67.3034</td>\n",
       "      <td>66.3332</td>\n",
       "      <td>66.3702</td>\n",
       "      <td>72.1006</td>\n",
       "      <td>62.2782</td>\n",
       "      <td>198702</td>\n",
       "    </tr>\n",
       "    <tr>\n",
       "      <td>Median</td>\n",
       "      <td>108</td>\n",
       "      <td>67</td>\n",
       "      <td>65</td>\n",
       "      <td>66</td>\n",
       "      <td>71</td>\n",
       "      <td>62</td>\n",
       "      <td>240000</td>\n",
       "    </tr>\n",
       "    <tr>\n",
       "      <td>Mode</td>\n",
       "      <td>1</td>\n",
       "      <td>62</td>\n",
       "      <td>63</td>\n",
       "      <td>65</td>\n",
       "      <td>60</td>\n",
       "      <td>56.7</td>\n",
       "      <td>0</td>\n",
       "    </tr>\n",
       "    <tr>\n",
       "      <td>Min</td>\n",
       "      <td>1</td>\n",
       "      <td>40.89</td>\n",
       "      <td>37</td>\n",
       "      <td>50</td>\n",
       "      <td>50</td>\n",
       "      <td>51.21</td>\n",
       "      <td>0</td>\n",
       "    </tr>\n",
       "    <tr>\n",
       "      <td>25%</td>\n",
       "      <td>54.5</td>\n",
       "      <td>60.6</td>\n",
       "      <td>60.9</td>\n",
       "      <td>61</td>\n",
       "      <td>60</td>\n",
       "      <td>57.945</td>\n",
       "      <td>0</td>\n",
       "    </tr>\n",
       "    <tr>\n",
       "      <td>50%</td>\n",
       "      <td>108</td>\n",
       "      <td>67</td>\n",
       "      <td>65</td>\n",
       "      <td>66</td>\n",
       "      <td>71</td>\n",
       "      <td>62</td>\n",
       "      <td>240000</td>\n",
       "    </tr>\n",
       "    <tr>\n",
       "      <td>75%</td>\n",
       "      <td>161.5</td>\n",
       "      <td>75.7</td>\n",
       "      <td>73</td>\n",
       "      <td>72</td>\n",
       "      <td>83.5</td>\n",
       "      <td>66.255</td>\n",
       "      <td>282500</td>\n",
       "    </tr>\n",
       "    <tr>\n",
       "      <td>Max</td>\n",
       "      <td>215</td>\n",
       "      <td>89.4</td>\n",
       "      <td>97.7</td>\n",
       "      <td>91</td>\n",
       "      <td>98</td>\n",
       "      <td>77.89</td>\n",
       "      <td>940000</td>\n",
       "    </tr>\n",
       "    <tr>\n",
       "      <td>IQR</td>\n",
       "      <td>107</td>\n",
       "      <td>15.1</td>\n",
       "      <td>12.1</td>\n",
       "      <td>11</td>\n",
       "      <td>23.5</td>\n",
       "      <td>8.31</td>\n",
       "      <td>282500</td>\n",
       "    </tr>\n",
       "    <tr>\n",
       "      <td>1.5rule</td>\n",
       "      <td>160.5</td>\n",
       "      <td>22.65</td>\n",
       "      <td>18.15</td>\n",
       "      <td>16.5</td>\n",
       "      <td>35.25</td>\n",
       "      <td>12.465</td>\n",
       "      <td>423750</td>\n",
       "    </tr>\n",
       "    <tr>\n",
       "      <td>Lesser</td>\n",
       "      <td>-106</td>\n",
       "      <td>37.95</td>\n",
       "      <td>42.75</td>\n",
       "      <td>44.5</td>\n",
       "      <td>24.75</td>\n",
       "      <td>45.48</td>\n",
       "      <td>-423750</td>\n",
       "    </tr>\n",
       "    <tr>\n",
       "      <td>Greater</td>\n",
       "      <td>322</td>\n",
       "      <td>98.35</td>\n",
       "      <td>91.15</td>\n",
       "      <td>88.5</td>\n",
       "      <td>118.75</td>\n",
       "      <td>78.72</td>\n",
       "      <td>706250</td>\n",
       "    </tr>\n",
       "  </tbody>\n",
       "</table>\n",
       "</div>"
      ],
      "text/plain": [
       "         sl_no    ssc_p    hsc_p degree_p  etest_p    mba_p  salary\n",
       "Mean       108  67.3034  66.3332  66.3702  72.1006  62.2782  198702\n",
       "Median     108       67       65       66       71       62  240000\n",
       "Mode         1       62       63       65       60     56.7       0\n",
       "Min          1    40.89       37       50       50    51.21       0\n",
       "25%       54.5     60.6     60.9       61       60   57.945       0\n",
       "50%        108       67       65       66       71       62  240000\n",
       "75%      161.5     75.7       73       72     83.5   66.255  282500\n",
       "Max        215     89.4     97.7       91       98    77.89  940000\n",
       "IQR        107     15.1     12.1       11     23.5     8.31  282500\n",
       "1.5rule  160.5    22.65    18.15     16.5    35.25   12.465  423750\n",
       "Lesser    -106    37.95    42.75     44.5    24.75    45.48 -423750\n",
       "Greater    322    98.35    91.15     88.5   118.75    78.72  706250"
      ]
     },
     "execution_count": 23,
     "metadata": {},
     "output_type": "execute_result"
    }
   ],
   "source": [
    "univariate"
   ]
  },
  {
   "cell_type": "code",
   "execution_count": 24,
   "metadata": {},
   "outputs": [],
   "source": [
    "lesser=[]\n",
    "greater=[]\n",
    "for column in quan:\n",
    "    if(univariate[column][\"Min\"]<univariate[column][\"Lesser\"]):\n",
    "        lesser.append(column)\n",
    "    if(univariate[column][\"Max\"]>univariate[column][\"Greater\"]):\n",
    "        greater.append(column)\n",
    "    "
   ]
  },
  {
   "cell_type": "code",
   "execution_count": 25,
   "metadata": {},
   "outputs": [
    {
     "data": {
      "text/plain": [
       "['hsc_p']"
      ]
     },
     "execution_count": 25,
     "metadata": {},
     "output_type": "execute_result"
    }
   ],
   "source": [
    "lesser"
   ]
  },
  {
   "cell_type": "code",
   "execution_count": 26,
   "metadata": {},
   "outputs": [
    {
     "data": {
      "text/plain": [
       "['hsc_p', 'degree_p', 'salary']"
      ]
     },
     "execution_count": 26,
     "metadata": {},
     "output_type": "execute_result"
    }
   ],
   "source": [
    "greater"
   ]
  },
  {
   "cell_type": "code",
   "execution_count": 27,
   "metadata": {},
   "outputs": [
    {
     "data": {
      "text/plain": [
       "42.75"
      ]
     },
     "execution_count": 27,
     "metadata": {},
     "output_type": "execute_result"
    }
   ],
   "source": [
    "univariate[\"hsc_p\"][\"Lesser\"]"
   ]
  },
  {
   "cell_type": "code",
   "execution_count": 28,
   "metadata": {},
   "outputs": [
    {
     "data": {
      "text/plain": [
       "42     39.00\n",
       "49     37.00\n",
       "120    40.00\n",
       "169    42.16\n",
       "206    42.00\n",
       "Name: hsc_p, dtype: float64"
      ]
     },
     "execution_count": 28,
     "metadata": {},
     "output_type": "execute_result"
    }
   ],
   "source": [
    "dataset[\"hsc_p\"][dataset[\"hsc_p\"]<univariate[\"hsc_p\"][\"Lesser\"]]"
   ]
  },
  {
   "cell_type": "code",
   "execution_count": 29,
   "metadata": {},
   "outputs": [],
   "source": [
    "#dataset[dataset[\"hsc_p\"]<=60][\"mba_p\"]"
   ]
  },
  {
   "cell_type": "code",
   "execution_count": 30,
   "metadata": {},
   "outputs": [],
   "source": [
    "#dataset[\"hsc_p\"][dataset[\"hsc_p\"]<univariate[\"hsc_P\"][\"Lesser\"]]"
   ]
  },
  {
   "cell_type": "code",
   "execution_count": 31,
   "metadata": {},
   "outputs": [
    {
     "name": "stderr",
     "output_type": "stream",
     "text": [
      "C:\\Users\\vijai\\Anaconda3\\lib\\site-packages\\ipykernel_launcher.py:2: SettingWithCopyWarning: \n",
      "A value is trying to be set on a copy of a slice from a DataFrame\n",
      "\n",
      "See the caveats in the documentation: http://pandas.pydata.org/pandas-docs/stable/user_guide/indexing.html#returning-a-view-versus-a-copy\n",
      "  \n",
      "C:\\Users\\vijai\\Anaconda3\\lib\\site-packages\\ipykernel_launcher.py:4: SettingWithCopyWarning: \n",
      "A value is trying to be set on a copy of a slice from a DataFrame\n",
      "\n",
      "See the caveats in the documentation: http://pandas.pydata.org/pandas-docs/stable/user_guide/indexing.html#returning-a-view-versus-a-copy\n",
      "  after removing the cwd from sys.path.\n"
     ]
    }
   ],
   "source": [
    "for less in lesser:\n",
    "    dataset[less][dataset[less]<univariate[less][\"Lesser\"]]=univariate[less][\"Lesser\"]\n",
    "for great in greater:\n",
    "    dataset[great][dataset[great]>univariate[great][\"Greater\"]]=univariate[great][\"Greater\"]\n",
    "    "
   ]
  },
  {
   "cell_type": "code",
   "execution_count": 32,
   "metadata": {
    "scrolled": true
   },
   "outputs": [
    {
     "name": "stdout",
     "output_type": "stream",
     "text": [
      "sl_no\n",
      "ssc_p\n",
      "hsc_p\n",
      "degree_p\n",
      "etest_p\n",
      "mba_p\n",
      "salary\n"
     ]
    }
   ],
   "source": [
    "univariate=pd.DataFrame(index=[\"Mean\",\"Median\",\"Mode\",\"Min\",\"25%\",\"50%\",\"75%\",\"Max\",\"IQR\",\"1.5rule\",\"Lesser\",\"Greater\"],columns=quan)\n",
    "for column in quan:\n",
    "    print(column)\n",
    "    univariate[column][\"Mean\"]=dataset[column].mean()\n",
    "    univariate[column][\"Median\"]=dataset[column].median()\n",
    "    univariate[column][\"Mode\"]=dataset[column].mode()[0]\n",
    "    univariate[column][\"Min\"]=dataset[column].min()\n",
    "    univariate[column][\"25%\"]=np.percentile(dataset[column],25)\n",
    "    univariate[column][\"50%\"]=np.percentile(dataset[column],50)\n",
    "    univariate[column][\"75%\"]=np.percentile(dataset[column],75)\n",
    "    univariate[column][\"Max\"]=np.percentile(dataset[column],100)\n",
    "    univariate[column][\"IQR\"]=univariate[column][\"75%\"]-univariate[column][\"25%\"]\n",
    "    univariate[column][\"1.5rule\"]=1.5*univariate[column][\"IQR\"]\n",
    "    univariate[column][\"Lesser\"]=univariate[column][\"25%\"]-univariate[column][\"1.5rule\"]\n",
    "    univariate[column][\"Greater\"]=univariate[column][\"75%\"]+univariate[column][\"1.5rule\"]\n",
    "    "
   ]
  },
  {
   "cell_type": "code",
   "execution_count": 33,
   "metadata": {},
   "outputs": [],
   "source": [
    "lesser=[]\n",
    "greater=[]\n",
    "for column in quan:\n",
    "    if(univariate[column][\"Min\"]<univariate[column][\"Lesser\"]):\n",
    "        lesser.append(column)\n",
    "    if(univariate[column][\"Max\"]>univariate[column][\"Greater\"]):\n",
    "        greater.append(column)\n",
    "    "
   ]
  },
  {
   "cell_type": "code",
   "execution_count": 34,
   "metadata": {},
   "outputs": [
    {
     "data": {
      "text/plain": [
       "[]"
      ]
     },
     "execution_count": 34,
     "metadata": {},
     "output_type": "execute_result"
    }
   ],
   "source": [
    "lesser"
   ]
  },
  {
   "cell_type": "code",
   "execution_count": 35,
   "metadata": {},
   "outputs": [
    {
     "data": {
      "text/plain": [
       "[]"
      ]
     },
     "execution_count": 35,
     "metadata": {},
     "output_type": "execute_result"
    }
   ],
   "source": [
    "greater"
   ]
  },
  {
   "cell_type": "code",
   "execution_count": 36,
   "metadata": {},
   "outputs": [
    {
     "data": {
      "text/html": [
       "<div>\n",
       "<style scoped>\n",
       "    .dataframe tbody tr th:only-of-type {\n",
       "        vertical-align: middle;\n",
       "    }\n",
       "\n",
       "    .dataframe tbody tr th {\n",
       "        vertical-align: top;\n",
       "    }\n",
       "\n",
       "    .dataframe thead th {\n",
       "        text-align: right;\n",
       "    }\n",
       "</style>\n",
       "<table border=\"1\" class=\"dataframe\">\n",
       "  <thead>\n",
       "    <tr style=\"text-align: right;\">\n",
       "      <th></th>\n",
       "      <th>sl_no</th>\n",
       "      <th>ssc_p</th>\n",
       "      <th>hsc_p</th>\n",
       "      <th>degree_p</th>\n",
       "      <th>etest_p</th>\n",
       "      <th>mba_p</th>\n",
       "      <th>salary</th>\n",
       "    </tr>\n",
       "  </thead>\n",
       "  <tbody>\n",
       "    <tr>\n",
       "      <td>Mean</td>\n",
       "      <td>108</td>\n",
       "      <td>67.3034</td>\n",
       "      <td>66.3347</td>\n",
       "      <td>66.3586</td>\n",
       "      <td>72.1006</td>\n",
       "      <td>62.2782</td>\n",
       "      <td>197615</td>\n",
       "    </tr>\n",
       "    <tr>\n",
       "      <td>Median</td>\n",
       "      <td>108</td>\n",
       "      <td>67</td>\n",
       "      <td>65</td>\n",
       "      <td>66</td>\n",
       "      <td>71</td>\n",
       "      <td>62</td>\n",
       "      <td>240000</td>\n",
       "    </tr>\n",
       "    <tr>\n",
       "      <td>Mode</td>\n",
       "      <td>1</td>\n",
       "      <td>62</td>\n",
       "      <td>63</td>\n",
       "      <td>65</td>\n",
       "      <td>60</td>\n",
       "      <td>56.7</td>\n",
       "      <td>0</td>\n",
       "    </tr>\n",
       "    <tr>\n",
       "      <td>Min</td>\n",
       "      <td>1</td>\n",
       "      <td>40.89</td>\n",
       "      <td>42.75</td>\n",
       "      <td>50</td>\n",
       "      <td>50</td>\n",
       "      <td>51.21</td>\n",
       "      <td>0</td>\n",
       "    </tr>\n",
       "    <tr>\n",
       "      <td>25%</td>\n",
       "      <td>54.5</td>\n",
       "      <td>60.6</td>\n",
       "      <td>60.9</td>\n",
       "      <td>61</td>\n",
       "      <td>60</td>\n",
       "      <td>57.945</td>\n",
       "      <td>0</td>\n",
       "    </tr>\n",
       "    <tr>\n",
       "      <td>50%</td>\n",
       "      <td>108</td>\n",
       "      <td>67</td>\n",
       "      <td>65</td>\n",
       "      <td>66</td>\n",
       "      <td>71</td>\n",
       "      <td>62</td>\n",
       "      <td>240000</td>\n",
       "    </tr>\n",
       "    <tr>\n",
       "      <td>75%</td>\n",
       "      <td>161.5</td>\n",
       "      <td>75.7</td>\n",
       "      <td>73</td>\n",
       "      <td>72</td>\n",
       "      <td>83.5</td>\n",
       "      <td>66.255</td>\n",
       "      <td>282500</td>\n",
       "    </tr>\n",
       "    <tr>\n",
       "      <td>Max</td>\n",
       "      <td>215</td>\n",
       "      <td>89.4</td>\n",
       "      <td>91.15</td>\n",
       "      <td>88.5</td>\n",
       "      <td>98</td>\n",
       "      <td>77.89</td>\n",
       "      <td>706250</td>\n",
       "    </tr>\n",
       "    <tr>\n",
       "      <td>IQR</td>\n",
       "      <td>107</td>\n",
       "      <td>15.1</td>\n",
       "      <td>12.1</td>\n",
       "      <td>11</td>\n",
       "      <td>23.5</td>\n",
       "      <td>8.31</td>\n",
       "      <td>282500</td>\n",
       "    </tr>\n",
       "    <tr>\n",
       "      <td>1.5rule</td>\n",
       "      <td>160.5</td>\n",
       "      <td>22.65</td>\n",
       "      <td>18.15</td>\n",
       "      <td>16.5</td>\n",
       "      <td>35.25</td>\n",
       "      <td>12.465</td>\n",
       "      <td>423750</td>\n",
       "    </tr>\n",
       "    <tr>\n",
       "      <td>Lesser</td>\n",
       "      <td>-106</td>\n",
       "      <td>37.95</td>\n",
       "      <td>42.75</td>\n",
       "      <td>44.5</td>\n",
       "      <td>24.75</td>\n",
       "      <td>45.48</td>\n",
       "      <td>-423750</td>\n",
       "    </tr>\n",
       "    <tr>\n",
       "      <td>Greater</td>\n",
       "      <td>322</td>\n",
       "      <td>98.35</td>\n",
       "      <td>91.15</td>\n",
       "      <td>88.5</td>\n",
       "      <td>118.75</td>\n",
       "      <td>78.72</td>\n",
       "      <td>706250</td>\n",
       "    </tr>\n",
       "  </tbody>\n",
       "</table>\n",
       "</div>"
      ],
      "text/plain": [
       "         sl_no    ssc_p    hsc_p degree_p  etest_p    mba_p  salary\n",
       "Mean       108  67.3034  66.3347  66.3586  72.1006  62.2782  197615\n",
       "Median     108       67       65       66       71       62  240000\n",
       "Mode         1       62       63       65       60     56.7       0\n",
       "Min          1    40.89    42.75       50       50    51.21       0\n",
       "25%       54.5     60.6     60.9       61       60   57.945       0\n",
       "50%        108       67       65       66       71       62  240000\n",
       "75%      161.5     75.7       73       72     83.5   66.255  282500\n",
       "Max        215     89.4    91.15     88.5       98    77.89  706250\n",
       "IQR        107     15.1     12.1       11     23.5     8.31  282500\n",
       "1.5rule  160.5    22.65    18.15     16.5    35.25   12.465  423750\n",
       "Lesser    -106    37.95    42.75     44.5    24.75    45.48 -423750\n",
       "Greater    322    98.35    91.15     88.5   118.75    78.72  706250"
      ]
     },
     "execution_count": 36,
     "metadata": {},
     "output_type": "execute_result"
    }
   ],
   "source": [
    "univariate"
   ]
  },
  {
   "cell_type": "code",
   "execution_count": 37,
   "metadata": {},
   "outputs": [
    {
     "data": {
      "text/plain": [
       "112.06373065855242"
      ]
     },
     "execution_count": 37,
     "metadata": {},
     "output_type": "execute_result"
    }
   ],
   "source": [
    "dataset[\"hsc_p\"].var()"
   ]
  },
  {
   "cell_type": "code",
   "execution_count": 38,
   "metadata": {},
   "outputs": [
    {
     "data": {
      "text/plain": [
       "10.58601580664569"
      ]
     },
     "execution_count": 38,
     "metadata": {},
     "output_type": "execute_result"
    }
   ],
   "source": [
    "dataset[\"hsc_p\"].std()"
   ]
  },
  {
   "cell_type": "code",
   "execution_count": 39,
   "metadata": {},
   "outputs": [
    {
     "name": "stdout",
     "output_type": "stream",
     "text": [
      "sl_no\n",
      "ssc_p\n",
      "hsc_p\n",
      "degree_p\n",
      "etest_p\n",
      "mba_p\n",
      "salary\n"
     ]
    }
   ],
   "source": [
    "univariate=pd.DataFrame(index=[\"Mean\",\"Median\",\"Mode\",\"Min\",\"25%\",\"50%\",\"75%\",\n",
    "                               \"Max\",\"IQR\",\"1.5rule\",\"Lesser\",\"Greater\",\"Variance\",\"Std\"],columns=quan)\n",
    "for column in quan:\n",
    "    print(column)\n",
    "    univariate[column][\"Mean\"]=dataset[column].mean()\n",
    "    univariate[column][\"Median\"]=dataset[column].median()\n",
    "    univariate[column][\"Mode\"]=dataset[column].mode()[0]\n",
    "    univariate[column][\"Min\"]=dataset[column].min()\n",
    "    univariate[column][\"25%\"]=np.percentile(dataset[column],25)\n",
    "    univariate[column][\"50%\"]=np.percentile(dataset[column],50)\n",
    "    univariate[column][\"75%\"]=np.percentile(dataset[column],75)\n",
    "    univariate[column][\"Max\"]=np.percentile(dataset[column],100)\n",
    "    univariate[column][\"IQR\"]=univariate[column][\"75%\"]-univariate[column][\"25%\"]\n",
    "    univariate[column][\"1.5rule\"]=1.5*univariate[column][\"IQR\"]\n",
    "    univariate[column][\"Lesser\"]=univariate[column][\"25%\"]-univariate[column][\"1.5rule\"]\n",
    "    univariate[column][\"Greater\"]=univariate[column][\"75%\"]+univariate[column][\"1.5rule\"]\n",
    "    univariate[column][\"Variance\"]=dataset[column].var()\n",
    "    univariate[column][\"Std\"]=dataset[column].std()\n",
    "    "
   ]
  },
  {
   "cell_type": "code",
   "execution_count": 40,
   "metadata": {},
   "outputs": [
    {
     "data": {
      "text/html": [
       "<div>\n",
       "<style scoped>\n",
       "    .dataframe tbody tr th:only-of-type {\n",
       "        vertical-align: middle;\n",
       "    }\n",
       "\n",
       "    .dataframe tbody tr th {\n",
       "        vertical-align: top;\n",
       "    }\n",
       "\n",
       "    .dataframe thead th {\n",
       "        text-align: right;\n",
       "    }\n",
       "</style>\n",
       "<table border=\"1\" class=\"dataframe\">\n",
       "  <thead>\n",
       "    <tr style=\"text-align: right;\">\n",
       "      <th></th>\n",
       "      <th>sl_no</th>\n",
       "      <th>ssc_p</th>\n",
       "      <th>hsc_p</th>\n",
       "      <th>degree_p</th>\n",
       "      <th>etest_p</th>\n",
       "      <th>mba_p</th>\n",
       "      <th>salary</th>\n",
       "    </tr>\n",
       "  </thead>\n",
       "  <tbody>\n",
       "    <tr>\n",
       "      <td>Mean</td>\n",
       "      <td>108</td>\n",
       "      <td>67.3034</td>\n",
       "      <td>66.3347</td>\n",
       "      <td>66.3586</td>\n",
       "      <td>72.1006</td>\n",
       "      <td>62.2782</td>\n",
       "      <td>197615</td>\n",
       "    </tr>\n",
       "    <tr>\n",
       "      <td>Median</td>\n",
       "      <td>108</td>\n",
       "      <td>67</td>\n",
       "      <td>65</td>\n",
       "      <td>66</td>\n",
       "      <td>71</td>\n",
       "      <td>62</td>\n",
       "      <td>240000</td>\n",
       "    </tr>\n",
       "    <tr>\n",
       "      <td>Mode</td>\n",
       "      <td>1</td>\n",
       "      <td>62</td>\n",
       "      <td>63</td>\n",
       "      <td>65</td>\n",
       "      <td>60</td>\n",
       "      <td>56.7</td>\n",
       "      <td>0</td>\n",
       "    </tr>\n",
       "    <tr>\n",
       "      <td>Min</td>\n",
       "      <td>1</td>\n",
       "      <td>40.89</td>\n",
       "      <td>42.75</td>\n",
       "      <td>50</td>\n",
       "      <td>50</td>\n",
       "      <td>51.21</td>\n",
       "      <td>0</td>\n",
       "    </tr>\n",
       "    <tr>\n",
       "      <td>25%</td>\n",
       "      <td>54.5</td>\n",
       "      <td>60.6</td>\n",
       "      <td>60.9</td>\n",
       "      <td>61</td>\n",
       "      <td>60</td>\n",
       "      <td>57.945</td>\n",
       "      <td>0</td>\n",
       "    </tr>\n",
       "    <tr>\n",
       "      <td>50%</td>\n",
       "      <td>108</td>\n",
       "      <td>67</td>\n",
       "      <td>65</td>\n",
       "      <td>66</td>\n",
       "      <td>71</td>\n",
       "      <td>62</td>\n",
       "      <td>240000</td>\n",
       "    </tr>\n",
       "    <tr>\n",
       "      <td>75%</td>\n",
       "      <td>161.5</td>\n",
       "      <td>75.7</td>\n",
       "      <td>73</td>\n",
       "      <td>72</td>\n",
       "      <td>83.5</td>\n",
       "      <td>66.255</td>\n",
       "      <td>282500</td>\n",
       "    </tr>\n",
       "    <tr>\n",
       "      <td>Max</td>\n",
       "      <td>215</td>\n",
       "      <td>89.4</td>\n",
       "      <td>91.15</td>\n",
       "      <td>88.5</td>\n",
       "      <td>98</td>\n",
       "      <td>77.89</td>\n",
       "      <td>706250</td>\n",
       "    </tr>\n",
       "    <tr>\n",
       "      <td>IQR</td>\n",
       "      <td>107</td>\n",
       "      <td>15.1</td>\n",
       "      <td>12.1</td>\n",
       "      <td>11</td>\n",
       "      <td>23.5</td>\n",
       "      <td>8.31</td>\n",
       "      <td>282500</td>\n",
       "    </tr>\n",
       "    <tr>\n",
       "      <td>1.5rule</td>\n",
       "      <td>160.5</td>\n",
       "      <td>22.65</td>\n",
       "      <td>18.15</td>\n",
       "      <td>16.5</td>\n",
       "      <td>35.25</td>\n",
       "      <td>12.465</td>\n",
       "      <td>423750</td>\n",
       "    </tr>\n",
       "    <tr>\n",
       "      <td>Lesser</td>\n",
       "      <td>-106</td>\n",
       "      <td>37.95</td>\n",
       "      <td>42.75</td>\n",
       "      <td>44.5</td>\n",
       "      <td>24.75</td>\n",
       "      <td>45.48</td>\n",
       "      <td>-423750</td>\n",
       "    </tr>\n",
       "    <tr>\n",
       "      <td>Greater</td>\n",
       "      <td>322</td>\n",
       "      <td>98.35</td>\n",
       "      <td>91.15</td>\n",
       "      <td>88.5</td>\n",
       "      <td>118.75</td>\n",
       "      <td>78.72</td>\n",
       "      <td>706250</td>\n",
       "    </tr>\n",
       "    <tr>\n",
       "      <td>Variance</td>\n",
       "      <td>3870</td>\n",
       "      <td>117.228</td>\n",
       "      <td>112.064</td>\n",
       "      <td>53.6047</td>\n",
       "      <td>176.251</td>\n",
       "      <td>34.0284</td>\n",
       "      <td>2.25918e+10</td>\n",
       "    </tr>\n",
       "    <tr>\n",
       "      <td>Std</td>\n",
       "      <td>62.2093</td>\n",
       "      <td>10.8272</td>\n",
       "      <td>10.586</td>\n",
       "      <td>7.32152</td>\n",
       "      <td>13.276</td>\n",
       "      <td>5.83338</td>\n",
       "      <td>150306</td>\n",
       "    </tr>\n",
       "  </tbody>\n",
       "</table>\n",
       "</div>"
      ],
      "text/plain": [
       "            sl_no    ssc_p    hsc_p degree_p  etest_p    mba_p       salary\n",
       "Mean          108  67.3034  66.3347  66.3586  72.1006  62.2782       197615\n",
       "Median        108       67       65       66       71       62       240000\n",
       "Mode            1       62       63       65       60     56.7            0\n",
       "Min             1    40.89    42.75       50       50    51.21            0\n",
       "25%          54.5     60.6     60.9       61       60   57.945            0\n",
       "50%           108       67       65       66       71       62       240000\n",
       "75%         161.5     75.7       73       72     83.5   66.255       282500\n",
       "Max           215     89.4    91.15     88.5       98    77.89       706250\n",
       "IQR           107     15.1     12.1       11     23.5     8.31       282500\n",
       "1.5rule     160.5    22.65    18.15     16.5    35.25   12.465       423750\n",
       "Lesser       -106    37.95    42.75     44.5    24.75    45.48      -423750\n",
       "Greater       322    98.35    91.15     88.5   118.75    78.72       706250\n",
       "Variance     3870  117.228  112.064  53.6047  176.251  34.0284  2.25918e+10\n",
       "Std       62.2093  10.8272   10.586  7.32152   13.276  5.83338       150306"
      ]
     },
     "execution_count": 40,
     "metadata": {},
     "output_type": "execute_result"
    }
   ],
   "source": [
    "univariate"
   ]
  },
  {
   "cell_type": "code",
   "execution_count": 41,
   "metadata": {},
   "outputs": [
    {
     "data": {
      "text/plain": [
       "0.08690077018906717"
      ]
     },
     "execution_count": 41,
     "metadata": {},
     "output_type": "execute_result"
    }
   ],
   "source": [
    "dataset[\"hsc_p\"].kurtosis()"
   ]
  },
  {
   "cell_type": "code",
   "execution_count": 42,
   "metadata": {},
   "outputs": [
    {
     "data": {
      "text/plain": [
       "0.16261050623024148"
      ]
     },
     "execution_count": 42,
     "metadata": {},
     "output_type": "execute_result"
    }
   ],
   "source": [
    "dataset[\"hsc_p\"].skew()"
   ]
  },
  {
   "cell_type": "code",
   "execution_count": 43,
   "metadata": {},
   "outputs": [
    {
     "name": "stdout",
     "output_type": "stream",
     "text": [
      "sl_no\n",
      "ssc_p\n",
      "hsc_p\n",
      "degree_p\n",
      "etest_p\n",
      "mba_p\n",
      "salary\n"
     ]
    }
   ],
   "source": [
    "univariate=pd.DataFrame(index=[\"Mean\",\"Median\",\"Mode\",\"Min\",\"25%\",\"50%\",\"75%\",\n",
    "                               \"Max\",\"IQR\",\"1.5rule\",\"Lesser\",\"Greater\",\"Variance\",\"Std\",\"Skew\",\"Kurtosis\"],columns=quan)\n",
    "for column in quan:\n",
    "    print(column)\n",
    "    univariate[column][\"Mean\"]=dataset[column].mean()\n",
    "    univariate[column][\"Median\"]=dataset[column].median()\n",
    "    univariate[column][\"Mode\"]=dataset[column].mode()[0]\n",
    "    univariate[column][\"Min\"]=dataset[column].min()\n",
    "    univariate[column][\"25%\"]=np.percentile(dataset[column],25)\n",
    "    univariate[column][\"50%\"]=np.percentile(dataset[column],50)\n",
    "    univariate[column][\"75%\"]=np.percentile(dataset[column],75)\n",
    "    univariate[column][\"Max\"]=np.percentile(dataset[column],100)\n",
    "    univariate[column][\"IQR\"]=univariate[column][\"75%\"]-univariate[column][\"25%\"]\n",
    "    univariate[column][\"1.5rule\"]=1.5*univariate[column][\"IQR\"]\n",
    "    univariate[column][\"Lesser\"]=univariate[column][\"25%\"]-univariate[column][\"1.5rule\"]\n",
    "    univariate[column][\"Greater\"]=univariate[column][\"75%\"]+univariate[column][\"1.5rule\"]\n",
    "    univariate[column][\"Variance\"]=dataset[column].var()\n",
    "    univariate[column][\"Std\"]=dataset[column].std()\n",
    "    univariate[column][\"Skew\"]=dataset[column].skew()\n",
    "    univariate[column][\"Kurtosis\"]=dataset[column].kurtosis()  \n",
    "    "
   ]
  },
  {
   "cell_type": "code",
   "execution_count": 44,
   "metadata": {},
   "outputs": [
    {
     "data": {
      "text/html": [
       "<div>\n",
       "<style scoped>\n",
       "    .dataframe tbody tr th:only-of-type {\n",
       "        vertical-align: middle;\n",
       "    }\n",
       "\n",
       "    .dataframe tbody tr th {\n",
       "        vertical-align: top;\n",
       "    }\n",
       "\n",
       "    .dataframe thead th {\n",
       "        text-align: right;\n",
       "    }\n",
       "</style>\n",
       "<table border=\"1\" class=\"dataframe\">\n",
       "  <thead>\n",
       "    <tr style=\"text-align: right;\">\n",
       "      <th></th>\n",
       "      <th>sl_no</th>\n",
       "      <th>ssc_p</th>\n",
       "      <th>hsc_p</th>\n",
       "      <th>degree_p</th>\n",
       "      <th>etest_p</th>\n",
       "      <th>mba_p</th>\n",
       "      <th>salary</th>\n",
       "    </tr>\n",
       "  </thead>\n",
       "  <tbody>\n",
       "    <tr>\n",
       "      <td>Mean</td>\n",
       "      <td>108</td>\n",
       "      <td>67.3034</td>\n",
       "      <td>66.3347</td>\n",
       "      <td>66.3586</td>\n",
       "      <td>72.1006</td>\n",
       "      <td>62.2782</td>\n",
       "      <td>197615</td>\n",
       "    </tr>\n",
       "    <tr>\n",
       "      <td>Median</td>\n",
       "      <td>108</td>\n",
       "      <td>67</td>\n",
       "      <td>65</td>\n",
       "      <td>66</td>\n",
       "      <td>71</td>\n",
       "      <td>62</td>\n",
       "      <td>240000</td>\n",
       "    </tr>\n",
       "    <tr>\n",
       "      <td>Mode</td>\n",
       "      <td>1</td>\n",
       "      <td>62</td>\n",
       "      <td>63</td>\n",
       "      <td>65</td>\n",
       "      <td>60</td>\n",
       "      <td>56.7</td>\n",
       "      <td>0</td>\n",
       "    </tr>\n",
       "    <tr>\n",
       "      <td>Min</td>\n",
       "      <td>1</td>\n",
       "      <td>40.89</td>\n",
       "      <td>42.75</td>\n",
       "      <td>50</td>\n",
       "      <td>50</td>\n",
       "      <td>51.21</td>\n",
       "      <td>0</td>\n",
       "    </tr>\n",
       "    <tr>\n",
       "      <td>25%</td>\n",
       "      <td>54.5</td>\n",
       "      <td>60.6</td>\n",
       "      <td>60.9</td>\n",
       "      <td>61</td>\n",
       "      <td>60</td>\n",
       "      <td>57.945</td>\n",
       "      <td>0</td>\n",
       "    </tr>\n",
       "    <tr>\n",
       "      <td>50%</td>\n",
       "      <td>108</td>\n",
       "      <td>67</td>\n",
       "      <td>65</td>\n",
       "      <td>66</td>\n",
       "      <td>71</td>\n",
       "      <td>62</td>\n",
       "      <td>240000</td>\n",
       "    </tr>\n",
       "    <tr>\n",
       "      <td>75%</td>\n",
       "      <td>161.5</td>\n",
       "      <td>75.7</td>\n",
       "      <td>73</td>\n",
       "      <td>72</td>\n",
       "      <td>83.5</td>\n",
       "      <td>66.255</td>\n",
       "      <td>282500</td>\n",
       "    </tr>\n",
       "    <tr>\n",
       "      <td>Max</td>\n",
       "      <td>215</td>\n",
       "      <td>89.4</td>\n",
       "      <td>91.15</td>\n",
       "      <td>88.5</td>\n",
       "      <td>98</td>\n",
       "      <td>77.89</td>\n",
       "      <td>706250</td>\n",
       "    </tr>\n",
       "    <tr>\n",
       "      <td>IQR</td>\n",
       "      <td>107</td>\n",
       "      <td>15.1</td>\n",
       "      <td>12.1</td>\n",
       "      <td>11</td>\n",
       "      <td>23.5</td>\n",
       "      <td>8.31</td>\n",
       "      <td>282500</td>\n",
       "    </tr>\n",
       "    <tr>\n",
       "      <td>1.5rule</td>\n",
       "      <td>160.5</td>\n",
       "      <td>22.65</td>\n",
       "      <td>18.15</td>\n",
       "      <td>16.5</td>\n",
       "      <td>35.25</td>\n",
       "      <td>12.465</td>\n",
       "      <td>423750</td>\n",
       "    </tr>\n",
       "    <tr>\n",
       "      <td>Lesser</td>\n",
       "      <td>-106</td>\n",
       "      <td>37.95</td>\n",
       "      <td>42.75</td>\n",
       "      <td>44.5</td>\n",
       "      <td>24.75</td>\n",
       "      <td>45.48</td>\n",
       "      <td>-423750</td>\n",
       "    </tr>\n",
       "    <tr>\n",
       "      <td>Greater</td>\n",
       "      <td>322</td>\n",
       "      <td>98.35</td>\n",
       "      <td>91.15</td>\n",
       "      <td>88.5</td>\n",
       "      <td>118.75</td>\n",
       "      <td>78.72</td>\n",
       "      <td>706250</td>\n",
       "    </tr>\n",
       "    <tr>\n",
       "      <td>Variance</td>\n",
       "      <td>3870</td>\n",
       "      <td>117.228</td>\n",
       "      <td>112.064</td>\n",
       "      <td>53.6047</td>\n",
       "      <td>176.251</td>\n",
       "      <td>34.0284</td>\n",
       "      <td>2.25918e+10</td>\n",
       "    </tr>\n",
       "    <tr>\n",
       "      <td>Std</td>\n",
       "      <td>62.2093</td>\n",
       "      <td>10.8272</td>\n",
       "      <td>10.586</td>\n",
       "      <td>7.32152</td>\n",
       "      <td>13.276</td>\n",
       "      <td>5.83338</td>\n",
       "      <td>150306</td>\n",
       "    </tr>\n",
       "    <tr>\n",
       "      <td>Skew</td>\n",
       "      <td>0</td>\n",
       "      <td>-0.132649</td>\n",
       "      <td>0.162611</td>\n",
       "      <td>0.204164</td>\n",
       "      <td>0.282308</td>\n",
       "      <td>0.313576</td>\n",
       "      <td>0.125415</td>\n",
       "    </tr>\n",
       "    <tr>\n",
       "      <td>Kurtosis</td>\n",
       "      <td>-1.2</td>\n",
       "      <td>-0.60751</td>\n",
       "      <td>0.0869008</td>\n",
       "      <td>-0.0974897</td>\n",
       "      <td>-1.08858</td>\n",
       "      <td>-0.470723</td>\n",
       "      <td>0.0257868</td>\n",
       "    </tr>\n",
       "  </tbody>\n",
       "</table>\n",
       "</div>"
      ],
      "text/plain": [
       "            sl_no     ssc_p      hsc_p   degree_p   etest_p     mba_p  \\\n",
       "Mean          108   67.3034    66.3347    66.3586   72.1006   62.2782   \n",
       "Median        108        67         65         66        71        62   \n",
       "Mode            1        62         63         65        60      56.7   \n",
       "Min             1     40.89      42.75         50        50     51.21   \n",
       "25%          54.5      60.6       60.9         61        60    57.945   \n",
       "50%           108        67         65         66        71        62   \n",
       "75%         161.5      75.7         73         72      83.5    66.255   \n",
       "Max           215      89.4      91.15       88.5        98     77.89   \n",
       "IQR           107      15.1       12.1         11      23.5      8.31   \n",
       "1.5rule     160.5     22.65      18.15       16.5     35.25    12.465   \n",
       "Lesser       -106     37.95      42.75       44.5     24.75     45.48   \n",
       "Greater       322     98.35      91.15       88.5    118.75     78.72   \n",
       "Variance     3870   117.228    112.064    53.6047   176.251   34.0284   \n",
       "Std       62.2093   10.8272     10.586    7.32152    13.276   5.83338   \n",
       "Skew            0 -0.132649   0.162611   0.204164  0.282308  0.313576   \n",
       "Kurtosis     -1.2  -0.60751  0.0869008 -0.0974897  -1.08858 -0.470723   \n",
       "\n",
       "               salary  \n",
       "Mean           197615  \n",
       "Median         240000  \n",
       "Mode                0  \n",
       "Min                 0  \n",
       "25%                 0  \n",
       "50%            240000  \n",
       "75%            282500  \n",
       "Max            706250  \n",
       "IQR            282500  \n",
       "1.5rule        423750  \n",
       "Lesser        -423750  \n",
       "Greater        706250  \n",
       "Variance  2.25918e+10  \n",
       "Std            150306  \n",
       "Skew         0.125415  \n",
       "Kurtosis    0.0257868  "
      ]
     },
     "execution_count": 44,
     "metadata": {},
     "output_type": "execute_result"
    }
   ],
   "source": [
    "univariate"
   ]
  },
  {
   "cell_type": "code",
   "execution_count": 45,
   "metadata": {},
   "outputs": [],
   "source": [
    "import seaborn as sns"
   ]
  },
  {
   "cell_type": "markdown",
   "metadata": {},
   "source": [
    "# Block is called histogram curve is called  density plot"
   ]
  },
  {
   "cell_type": "code",
   "execution_count": 50,
   "metadata": {},
   "outputs": [
    {
     "data": {
      "text/plain": [
       "<matplotlib.axes._subplots.AxesSubplot at 0x1aee36514c8>"
      ]
     },
     "execution_count": 50,
     "metadata": {},
     "output_type": "execute_result"
    },
    {
     "data": {
      "image/png": "[encoded data removed]",
      "text/plain": [
       "<Figure size 432x288 with 1 Axes>"
      ]
     },
     "metadata": {
      "needs_background": "light"
     },
     "output_type": "display_data"
    }
   ],
   "source": [
    "sns.distplot(dataset[\"ssc_p\"])"
   ]
  },
  {
   "cell_type": "code",
   "execution_count": 47,
   "metadata": {},
   "outputs": [],
   "source": [
    "def get_pdf_probability(dataset,startrange,endrange):\n",
    "    from matplotlib import pyplot\n",
    "    from scipy.stats import norm\n",
    "    import seaborn as sns\n",
    "    ax = sns.distplot(dataset,kde=True,kde_kws={'color':'blue'},color='Green')\n",
    "    pyplot.axvline(startrange,color='Red')\n",
    "    pyplot.axvline(endrange,color='Red')\n",
    "    # generate a sample\n",
    "    sample = dataset\n",
    "    # calculate parameters\n",
    "    sample_mean =sample.mean()\n",
    "    sample_std = sample.std()\n",
    "    print('Mean=%.3f, Standard Deviation=%.3f' % (sample_mean, sample_std))\n",
    "    # define the distribution\n",
    "    dist = norm(sample_mean, sample_std)\n",
    "    \n",
    "    # sample probabilities for a range of outcomes\n",
    "    values = [value for value in range(startrange, endrange)]\n",
    "    probabilities = [dist.pdf(value) for value in values]    \n",
    "    prob=sum(probabilities)\n",
    "    print(\"The area between range({},{}):{}\".format(startrange,endrange,sum(probabilities)))\n",
    "    return prob\n",
    "    "
   ]
  },
  {
   "cell_type": "code",
   "execution_count": 48,
   "metadata": {},
   "outputs": [
    {
     "name": "stdout",
     "output_type": "stream",
     "text": [
      "Mean=67.303, Standard Deviation=10.827\n",
      "The area between range(90,90):0\n"
     ]
    },
    {
     "data": {
      "text/plain": [
       "0"
      ]
     },
     "execution_count": 48,
     "metadata": {},
     "output_type": "execute_result"
    },
    {
     "data": {
      "image/png": "[encoded data removed]",
      "text/plain": [
       "<Figure size 432x288 with 1 Axes>"
      ]
     },
     "metadata": {
      "needs_background": "light"
     },
     "output_type": "display_data"
    }
   ],
   "source": [
    "get_pdf_probability(dataset[\"ssc_p\"],90,90)"
   ]
  },
  {
   "cell_type": "code",
   "execution_count": 49,
   "metadata": {},
   "outputs": [
    {
     "data": {
      "text/plain": [
       "(array([0.00930233, 0.00930233, 0.00930233, 0.00930233, 0.01395349,\n",
       "        0.01395349, 0.01860465, 0.01860465, 0.02325581, 0.02325581,\n",
       "        0.02790698, 0.02790698, 0.0372093 , 0.0372093 , 0.04186047,\n",
       "        0.04186047, 0.05116279, 0.05116279, 0.05581395, 0.05581395,\n",
       "        0.06511628, 0.06511628, 0.11162791, 0.11162791, 0.1255814 ,\n",
       "        0.1255814 , 0.1255814 , 0.14883721, 0.14883721, 0.15813953,\n",
       "        0.16744186, 0.17674419, 0.18139535, 0.18139535, 0.18139535,\n",
       "        0.20930233, 0.20930233, 0.22325581, 0.22790698, 0.24651163,\n",
       "        0.25116279, 0.27906977, 0.27906977, 0.33488372, 0.33488372,\n",
       "        0.38139535, 0.39069767, 0.40930233, 0.41395349, 0.44651163,\n",
       "        0.45116279, 0.46511628, 0.47906977, 0.52093023, 0.5255814 ,\n",
       "        0.53953488, 0.54418605, 0.57674419, 0.58139535, 0.59534884,\n",
       "        0.60930233, 0.61860465, 0.62790698, 0.62790698, 0.64186047,\n",
       "        0.64186047, 0.68837209, 0.68837209, 0.73023256, 0.73023256,\n",
       "        0.74418605, 0.74883721, 0.7627907 , 0.77674419, 0.80465116,\n",
       "        0.81860465, 0.82790698, 0.83255814, 0.84651163, 0.85116279,\n",
       "        0.86511628, 0.8744186 , 0.88372093, 0.88372093, 0.90697674,\n",
       "        0.90697674, 0.91162791, 0.91627907, 0.94418605, 0.95348837,\n",
       "        0.96744186, 0.96744186, 0.97209302, 0.97209302, 0.97674419,\n",
       "        0.99069767, 0.99069767, 0.99534884, 0.99534884, 1.        ]),\n",
       " array([40.89  , 41.3751, 41.8602, 42.3453, 42.8304, 43.3155, 43.8006,\n",
       "        44.2857, 44.7708, 45.2559, 45.741 , 46.2261, 46.7112, 47.1963,\n",
       "        47.6814, 48.1665, 48.6516, 49.1367, 49.6218, 50.1069, 50.592 ,\n",
       "        51.0771, 51.5622, 52.0473, 52.5324, 53.0175, 53.5026, 53.9877,\n",
       "        54.4728, 54.9579, 55.443 , 55.9281, 56.4132, 56.8983, 57.3834,\n",
       "        57.8685, 58.3536, 58.8387, 59.3238, 59.8089, 60.294 , 60.7791,\n",
       "        61.2642, 61.7493, 62.2344, 62.7195, 63.2046, 63.6897, 64.1748,\n",
       "        64.6599, 65.145 , 65.6301, 66.1152, 66.6003, 67.0854, 67.5705,\n",
       "        68.0556, 68.5407, 69.0258, 69.5109, 69.996 , 70.4811, 70.9662,\n",
       "        71.4513, 71.9364, 72.4215, 72.9066, 73.3917, 73.8768, 74.3619,\n",
       "        74.847 , 75.3321, 75.8172, 76.3023, 76.7874, 77.2725, 77.7576,\n",
       "        78.2427, 78.7278, 79.2129, 79.698 , 80.1831, 80.6682, 81.1533,\n",
       "        81.6384, 82.1235, 82.6086, 83.0937, 83.5788, 84.0639, 84.549 ,\n",
       "        85.0341, 85.5192, 86.0043, 86.4894, 86.9745, 87.4596, 87.9447,\n",
       "        88.4298, 88.9149, 89.4   ]),\n",
       " <a list of 100 Patch objects>)"
      ]
     },
     "execution_count": 49,
     "metadata": {},
     "output_type": "execute_result"
    },
    {
     "data": {
      "image/png": "[encoded data removed]",
      "text/plain": [
       "<Figure size 432x288 with 1 Axes>"
      ]
     },
     "metadata": {
      "needs_background": "light"
     },
     "output_type": "display_data"
    }
   ],
   "source": [
    "import matplotlib.pyplot as plt\n",
    "x=dataset['ssc_p']\n",
    "plt.hist(x,cumulative=True, density=True,bins=100)"
   ]
  }
 ],
 "metadata": {
  "kernelspec": {
   "display_name": "Python 3",
   "language": "python",
   "name": "python3"
  },
  "language_info": {
   "codemirror_mode": {
    "name": "ipython",
    "version": 3
   },
   "file_extension": ".py",
   "mimetype": "text/x-python",
   "name": "python",
   "nbconvert_exporter": "python",
   "pygments_lexer": "ipython3",
   "version": "3.7.4"
  }
 },
 "nbformat": 4,
 "nbformat_minor": 5
}
